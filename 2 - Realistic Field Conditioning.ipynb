{
 "cells": [
  {
   "cell_type": "code",
   "execution_count": 1,
   "id": "e14e6f6d-2e2d-4f5d-b97e-515f19128cf2",
   "metadata": {},
   "outputs": [],
   "source": [
    "import torch as T\n",
    "import albumentations as A\n",
    "import cv2\n",
    "import numpy as np\n",
    "import os\n",
    "import random\n",
    "from tqdm.notebook import tqdm\n"
   ]
  },
  {
   "cell_type": "code",
   "execution_count": 2,
   "id": "6f106269-d740-4641-92d1-abd6197b6a28",
   "metadata": {},
   "outputs": [
    {
     "name": "stdout",
     "output_type": "stream",
     "text": [
      "cuda\n"
     ]
    }
   ],
   "source": [
    "if T.cuda.is_available():\n",
    "    device=T.device(\"cuda\")\n",
    "else:\n",
    "    device=T.device(\"cpu\")\n",
    "\n",
    "print(device)"
   ]
  },
  {
   "cell_type": "code",
   "execution_count": 3,
   "id": "2d5c0689-d1e9-47ba-bc49-3158fd2a8e71",
   "metadata": {},
   "outputs": [
    {
     "name": "stdout",
     "output_type": "stream",
     "text": [
      "\n",
      "📁 Processing folder: train\n"
     ]
    },
    {
     "data": {
      "application/vnd.jupyter.widget-view+json": {
       "model_id": "cace0b4c506e4668b68d0b649b774195",
       "version_major": 2,
       "version_minor": 0
      },
      "text/plain": [
       "🌦️ Environmental Aug:   0%|          | 0/400 [00:00<?, ?it/s]"
      ]
     },
     "metadata": {},
     "output_type": "display_data"
    },
    {
     "data": {
      "application/vnd.jupyter.widget-view+json": {
       "model_id": "0d2201d6fced427188bac014b016f85f",
       "version_major": 2,
       "version_minor": 0
      },
      "text/plain": [
       "🌀 Geometric Aug:   0%|          | 0/800 [00:00<?, ?it/s]"
      ]
     },
     "metadata": {},
     "output_type": "display_data"
    },
    {
     "data": {
      "application/vnd.jupyter.widget-view+json": {
       "model_id": "d9491792c15d4777a8ce8383b2bc9ebe",
       "version_major": 2,
       "version_minor": 0
      },
      "text/plain": [
       "💾 Saving:   0%|          | 0/1600 [00:00<?, ?it/s]"
      ]
     },
     "metadata": {},
     "output_type": "display_data"
    },
    {
     "name": "stdout",
     "output_type": "stream",
     "text": [
      "✅ train: Original = 400 | Final Augmented = 1600 (4x)\n",
      "\n",
      "📁 Processing folder: test\n"
     ]
    },
    {
     "data": {
      "application/vnd.jupyter.widget-view+json": {
       "model_id": "c47e38c1d9d84bb48704144fdecea77f",
       "version_major": 2,
       "version_minor": 0
      },
      "text/plain": [
       "🌦️ Environmental Aug:   0%|          | 0/300 [00:00<?, ?it/s]"
      ]
     },
     "metadata": {},
     "output_type": "display_data"
    },
    {
     "data": {
      "application/vnd.jupyter.widget-view+json": {
       "model_id": "1f1e1d7484334066bb0228112fd3df45",
       "version_major": 2,
       "version_minor": 0
      },
      "text/plain": [
       "🌀 Geometric Aug:   0%|          | 0/600 [00:00<?, ?it/s]"
      ]
     },
     "metadata": {},
     "output_type": "display_data"
    },
    {
     "data": {
      "application/vnd.jupyter.widget-view+json": {
       "model_id": "183bad8ef1e64110908f95174d99d9eb",
       "version_major": 2,
       "version_minor": 0
      },
      "text/plain": [
       "💾 Saving:   0%|          | 0/1200 [00:00<?, ?it/s]"
      ]
     },
     "metadata": {},
     "output_type": "display_data"
    },
    {
     "name": "stdout",
     "output_type": "stream",
     "text": [
      "✅ test: Original = 300 | Final Augmented = 1200 (4x)\n",
      "\n",
      "📁 Processing folder: validation\n"
     ]
    },
    {
     "data": {
      "application/vnd.jupyter.widget-view+json": {
       "model_id": "550fc917797943ef85fe0e5aa4975fd1",
       "version_major": 2,
       "version_minor": 0
      },
      "text/plain": [
       "🌦️ Environmental Aug:   0%|          | 0/88 [00:00<?, ?it/s]"
      ]
     },
     "metadata": {},
     "output_type": "display_data"
    },
    {
     "data": {
      "application/vnd.jupyter.widget-view+json": {
       "model_id": "d1133d6d48e94a50906e17ca5ea404e1",
       "version_major": 2,
       "version_minor": 0
      },
      "text/plain": [
       "🌀 Geometric Aug:   0%|          | 0/176 [00:00<?, ?it/s]"
      ]
     },
     "metadata": {},
     "output_type": "display_data"
    },
    {
     "name": "stdout",
     "output_type": "stream",
     "text": [
      "🧹 Clearing old vegetation masks in: Vegetation_Masks\\val\n"
     ]
    },
    {
     "data": {
      "application/vnd.jupyter.widget-view+json": {
       "model_id": "ff730ab83f914bfeadd244da164cce14",
       "version_major": 2,
       "version_minor": 0
      },
      "text/plain": [
       "💾 Saving:   0%|          | 0/352 [00:00<?, ?it/s]"
      ]
     },
     "metadata": {},
     "output_type": "display_data"
    },
    {
     "name": "stdout",
     "output_type": "stream",
     "text": [
      "✅ validation: Original = 88 | Final Augmented = 352 (4x)\n"
     ]
    }
   ],
   "source": [
    "# ---------------------- Augmentation Pipelines -----------------------\n",
    "env_aug = A.Compose([\n",
    "    A.OneOf([\n",
    "        A.RandomSunFlare(flare_roi=(0, 0, 1, 0.5), src_radius=200, p=0.5),\n",
    "        A.RandomRain(brightness_coefficient=0.9, drop_width=1, blur_value=3, p=0.5),\n",
    "        A.RandomFog(fog_coef_range=(0.2, 0.4), p=0.5)\n",
    "    ], p=1),\n",
    "    A.Resize(384, 512)\n",
    "], additional_targets={'crop_mask': 'mask', 'vegetation_mask': 'mask'})\n",
    "\n",
    "geo_aug = A.Compose([\n",
    "    A.HorizontalFlip(p=0.5),\n",
    "    A.VerticalFlip(p=0.5),\n",
    "    A.RandomRotate90(p=0.5),\n",
    "    A.Affine(translate_percent=0.05, scale=(0.9, 1.1), p=0.5),\n",
    "    A.ElasticTransform(alpha=300, sigma=10, interpolation=cv2.INTER_NEAREST,\n",
    "                       mask_interpolation=cv2.INTER_NEAREST, same_dxdy=True,\n",
    "                       border_mode=cv2.BORDER_CONSTANT, p=0.5),\n",
    "    A.ISONoise(color_shift=(0.01, 0.05), intensity=(0.1, 0.5), p=0.5),\n",
    "    A.Resize(384, 512)\n",
    "], additional_targets={'crop_mask': 'mask', 'vegetation_mask': 'mask'})\n",
    "\n",
    "# ---------------------- Folders -----------------------\n",
    "folder_prefix = r\"D:\\AAU Internship\\Code\\CWF-788\\IMAGE512x384\"\n",
    "folders = [\"train\", \"test\", \"validation\"]\n",
    "new_folders = [\"train_new\", \"test_new\", \"validation_new\"]\n",
    "mask_folders = [\"trainlabel\", \"testlabel\", \"validationlabel\"]\n",
    "new_mask_folders = [\"trainlabel_new\", \"testlabel_new\", \"validationlabel_new\"]\n",
    "vegetation_mask_folders = [\"train\", \"test\", \"val\"]\n",
    "\n",
    "img_ext = \".jpg\"\n",
    "mask_ext = \".png\"\n",
    "\n",
    "# ---------------------- Helper Functions -----------------------\n",
    "def get_image_files(folder, extension):\n",
    "    return [os.path.join(folder, f) for f in os.listdir(folder)\n",
    "            if os.path.splitext(f)[1].lower() == extension]\n",
    "\n",
    "def load_image(image_path):\n",
    "    img = cv2.imread(image_path)\n",
    "    if img is None:\n",
    "        raise ValueError(f\"Failed to load {image_path}\")\n",
    "    return cv2.cvtColor(img, cv2.COLOR_BGR2RGB)\n",
    "\n",
    "def load_mask(mask_path):\n",
    "    mask = cv2.imread(mask_path, cv2.IMREAD_GRAYSCALE)\n",
    "    if mask is None:\n",
    "        raise ValueError(f\"Failed to load {mask_path}\")\n",
    "    return mask\n",
    "\n",
    "def save_image(path, image_rgb):\n",
    "    image_bgr = cv2.cvtColor(image_rgb, cv2.COLOR_RGB2BGR)\n",
    "    cv2.imwrite(path, image_bgr)\n",
    "\n",
    "def save_mask(path, mask):\n",
    "    cv2.imwrite(path, mask)\n",
    "\n",
    "# ---------------------- Main Loop -----------------------\n",
    "for folder_div, new_folder_div, mask_folder_div, veg_mask_folder_div, new_mask_folder_div, new_veg_mask_folder_div in zip(\n",
    "    folders, new_folders, mask_folders, vegetation_mask_folders, new_mask_folders, vegetation_mask_folders):\n",
    "\n",
    "    folder = os.path.join(folder_prefix, folder_div)\n",
    "    new_folder = os.path.join(folder_prefix, new_folder_div)\n",
    "    mask_folder = os.path.join(folder_prefix, mask_folder_div)\n",
    "    veg_mask_folder = os.path.join(\"Vegetation_Masks\", veg_mask_folder_div)\n",
    "    new_mask_folder = os.path.join(folder_prefix, new_mask_folder_div)\n",
    "    new_veg_mask_folder = os.path.join(\"Vegetation_Masks\", new_veg_mask_folder_div)\n",
    "\n",
    "    # Check if required folders exist\n",
    "    required_folders = [\n",
    "        (folder, \"Image folder\"),\n",
    "        (mask_folder, \"Crop mask folder\"),\n",
    "        (veg_mask_folder, \"Vegetation mask folder\")\n",
    "    ]\n",
    "    missing_folders = [desc for path, desc in required_folders if not os.path.isdir(path)]\n",
    "\n",
    "    if missing_folders:\n",
    "        print(f\"Skipping {folder_div} - Missing: {', '.join(missing_folders)}\")\n",
    "        continue\n",
    "\n",
    "    os.makedirs(new_folder, exist_ok=True)\n",
    "    os.makedirs(new_mask_folder, exist_ok=True)\n",
    "    os.makedirs(new_veg_mask_folder, exist_ok=True)\n",
    "\n",
    "    print(f\"\\n📁 Processing folder: {folder_div}\")\n",
    "    image_paths = get_image_files(folder, img_ext)\n",
    "    image_paths.sort()\n",
    "\n",
    "    images, crop_masks, veg_masks, names = [], [], [], []\n",
    "\n",
    "    # Load original data\n",
    "    for path in image_paths:\n",
    "        image = load_image(path)\n",
    "        basename = os.path.splitext(os.path.basename(path))[0]\n",
    "\n",
    "        crop_mask_path = os.path.join(mask_folder, basename + mask_ext)\n",
    "        crop_mask = load_mask(crop_mask_path)\n",
    "\n",
    "        veg_mask_path = os.path.join(veg_mask_folder, basename + mask_ext)\n",
    "        veg_mask = load_mask(veg_mask_path)\n",
    "\n",
    "        images.append(image)\n",
    "        crop_masks.append(crop_mask)\n",
    "        veg_masks.append(veg_mask)\n",
    "        names.append(basename)\n",
    "\n",
    "    orig_count = len(images)\n",
    "    all_aug_images, all_aug_crop_masks, all_aug_veg_masks, all_aug_names = [], [], [], []\n",
    "\n",
    "    # 🌦️ Environmental Augmentations\n",
    "    for i, (image, crop_mask, veg_mask, basename) in enumerate(tqdm(\n",
    "        list(zip(images, crop_masks, veg_masks, names)), desc=\"🌦️ Environmental Aug\")):\n",
    "\n",
    "        augmented = env_aug(image=image, crop_mask=crop_mask, vegetation_mask=veg_mask)\n",
    "        all_aug_images.append(augmented['image'])\n",
    "        all_aug_crop_masks.append(augmented['crop_mask'])\n",
    "        all_aug_veg_masks.append(augmented['vegetation_mask'])\n",
    "        all_aug_names.append(f\"{orig_count + i + 1}_env\")\n",
    "\n",
    "    # 🌀 Geometric Augmentations\n",
    "    current_max_id = orig_count * 2\n",
    "    for i, (img, crop_msk, veg_msk, _) in enumerate(tqdm(\n",
    "        list(zip(images + all_aug_images,\n",
    "                 crop_masks + all_aug_crop_masks,\n",
    "                 veg_masks + all_aug_veg_masks,\n",
    "                 names + all_aug_names)), desc=\"🌀 Geometric Aug\")):\n",
    "\n",
    "        augmented = geo_aug(image=img, crop_mask=crop_msk, vegetation_mask=veg_msk)\n",
    "        all_aug_images.append(augmented['image'])\n",
    "        all_aug_crop_masks.append(augmented['crop_mask'])\n",
    "        all_aug_veg_masks.append(augmented['vegetation_mask'])\n",
    "        all_aug_names.append(f\"{current_max_id + i + 1}_geo\")\n",
    "\n",
    "    combined = list(zip(images + all_aug_images,\n",
    "                        crop_masks + all_aug_crop_masks,\n",
    "                        veg_masks + all_aug_veg_masks,\n",
    "                        names + all_aug_names))\n",
    "    random.shuffle(combined)\n",
    "\n",
    "    # ✅ Clear vegetation masks ONLY for validation (AFTER loading originals)\n",
    "    if folder_div.lower() == \"validation\":\n",
    "        print(f\"🧹 Clearing old vegetation masks in: {new_veg_mask_folder}\")\n",
    "        for f in os.listdir(new_veg_mask_folder):\n",
    "            file_path = os.path.join(new_veg_mask_folder, f)\n",
    "            try:\n",
    "                if os.path.isfile(file_path):\n",
    "                    os.unlink(file_path)\n",
    "            except Exception as e:\n",
    "                print(f\"Error deleting file {file_path}: {e}\")\n",
    "\n",
    "    # 💾 Save all data\n",
    "    for i, (img, crop_msk, veg_msk, _) in enumerate(tqdm(combined, desc=\"💾 Saving\")):\n",
    "        new_name = f\"{i + 1}_image\"\n",
    "        save_image(os.path.join(new_folder, new_name + img_ext), img)\n",
    "        save_mask(os.path.join(new_mask_folder, new_name + mask_ext), crop_msk)\n",
    "        save_mask(os.path.join(new_veg_mask_folder, new_name + mask_ext), veg_msk)\n",
    "\n",
    "    print(f\"✅ {folder_div}: Original = {orig_count} | Final Augmented = {len(combined)} (4x)\")\n"
   ]
  },
  {
   "cell_type": "code",
   "execution_count": null,
   "id": "ecfa0aef-230d-4c83-9fce-15c6c104636f",
   "metadata": {},
   "outputs": [],
   "source": []
  },
  {
   "cell_type": "code",
   "execution_count": null,
   "id": "915491b5-6c66-4105-8dbe-3aee87adcf1b",
   "metadata": {},
   "outputs": [],
   "source": []
  }
 ],
 "metadata": {
  "kernelspec": {
   "display_name": "Python 3 (ipykernel)",
   "language": "python",
   "name": "python3"
  },
  "language_info": {
   "codemirror_mode": {
    "name": "ipython",
    "version": 3
   },
   "file_extension": ".py",
   "mimetype": "text/x-python",
   "name": "python",
   "nbconvert_exporter": "python",
   "pygments_lexer": "ipython3",
   "version": "3.12.10"
  }
 },
 "nbformat": 4,
 "nbformat_minor": 5
}
