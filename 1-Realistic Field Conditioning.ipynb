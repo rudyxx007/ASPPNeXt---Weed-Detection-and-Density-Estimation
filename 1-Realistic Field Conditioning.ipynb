{
 "cells": [
  {
   "cell_type": "code",
   "execution_count": 1,
   "id": "e14e6f6d-2e2d-4f5d-b97e-515f19128cf2",
   "metadata": {},
   "outputs": [],
   "source": [
    "import torch as T\n",
    "import albumentations as A\n",
    "import cv2\n",
    "import numpy as np\n",
    "import os\n",
    "import random\n",
    "from tqdm import tqdm\n"
   ]
  },
  {
   "cell_type": "code",
   "execution_count": 2,
   "id": "6f106269-d740-4641-92d1-abd6197b6a28",
   "metadata": {},
   "outputs": [
    {
     "name": "stdout",
     "output_type": "stream",
     "text": [
      "cuda\n"
     ]
    }
   ],
   "source": [
    "if T.cuda.is_available():\n",
    "    device=T.device(\"cuda\")\n",
    "else:\n",
    "    device=T.device(\"cpu\")\n",
    "\n",
    "print(device)"
   ]
  },
  {
   "cell_type": "code",
   "execution_count": 3,
   "id": "2d5c0689-d1e9-47ba-bc49-3158fd2a8e71",
   "metadata": {},
   "outputs": [
    {
     "name": "stdout",
     "output_type": "stream",
     "text": [
      "Using device: cuda\n",
      "\n",
      "📁 Processing folder: train\n"
     ]
    },
    {
     "name": "stderr",
     "output_type": "stream",
     "text": [
      "D:\\Python\\Lib\\site-packages\\albumentations\\core\\validation.py:114: UserWarning: ShiftScaleRotate is a special case of Affine transform. Please use Affine transform instead.\n",
      "  original_init(self, **validated_kwargs)\n",
      "🌦️ Environmental Aug: 100%|██████████████████████████████████████████████████████████| 400/400 [01:37<00:00,  4.08it/s]\n",
      "🌀 Geometric Aug: 100%|██████████████████████████████████████████████████████████████| 800/800 [00:31<00:00, 25.40it/s]\n",
      "💾 Saving: 100%|███████████████████████████████████████████████████████████████████| 1600/1600 [00:20<00:00, 79.93it/s]\n"
     ]
    },
    {
     "name": "stdout",
     "output_type": "stream",
     "text": [
      "✅ train: Original = 400 | Final Augmented = 1600 (4x)\n",
      "\n",
      "📁 Processing folder: test\n"
     ]
    },
    {
     "name": "stderr",
     "output_type": "stream",
     "text": [
      "🌦️ Environmental Aug: 100%|██████████████████████████████████████████████████████████| 300/300 [01:23<00:00,  3.60it/s]\n",
      "🌀 Geometric Aug: 100%|██████████████████████████████████████████████████████████████| 600/600 [00:19<00:00, 30.27it/s]\n",
      "💾 Saving: 100%|██████████████████████████████████████████████████████████████████| 1200/1200 [00:08<00:00, 135.42it/s]\n"
     ]
    },
    {
     "name": "stdout",
     "output_type": "stream",
     "text": [
      "✅ test: Original = 300 | Final Augmented = 1200 (4x)\n",
      "\n",
      "📁 Processing folder: validation\n"
     ]
    },
    {
     "name": "stderr",
     "output_type": "stream",
     "text": [
      "🌦️ Environmental Aug: 100%|████████████████████████████████████████████████████████████| 88/88 [00:19<00:00,  4.59it/s]\n",
      "🌀 Geometric Aug: 100%|██████████████████████████████████████████████████████████████| 176/176 [00:05<00:00, 34.10it/s]\n",
      "💾 Saving: 100%|████████████████████████████████████████████████████████████████████| 352/352 [00:01<00:00, 206.57it/s]"
     ]
    },
    {
     "name": "stdout",
     "output_type": "stream",
     "text": [
      "✅ validation: Original = 88 | Final Augmented = 352 (4x)\n"
     ]
    },
    {
     "name": "stderr",
     "output_type": "stream",
     "text": [
      "\n"
     ]
    }
   ],
   "source": [
    "if T.cuda.is_available():\n",
    "    device = T.device(\"cuda\")\n",
    "else:\n",
    "    device = T.device(\"cpu\")\n",
    "\n",
    "print(f\"Using device: {device}\")\n",
    "\n",
    "# ---------------------- Augmentation Pipelines -----------------------\n",
    "env_aug = A.Compose([\n",
    "    A.OneOf([\n",
    "        A.RandomSunFlare(flare_roi=(0, 0, 1, 0.5), src_radius=200, p=0.5),\n",
    "        A.RandomRain(brightness_coefficient=0.9, drop_width=1, blur_value=3, p=0.5),\n",
    "        A.RandomFog(fog_coef_range=(0.2, 0.4), p=0.5),\n",
    "    ], p=1),\n",
    "    A.Resize(384,512)\n",
    "], additional_targets={'mask': 'mask'})\n",
    "\n",
    "geo_aug = A.Compose([\n",
    "    A.HorizontalFlip(p=0.5),\n",
    "    A.VerticalFlip(p=0.5),\n",
    "    A.RandomRotate90(p=0.5),\n",
    "    A.ShiftScaleRotate(shift_limit=0.05, scale_limit=0.1, rotate_limit=15, p=0.5),\n",
    "    A.D4(p=1),\n",
    "    A.ElasticTransform(alpha=300, sigma=10, interpolation=cv2.INTER_NEAREST, mask_interpolation=cv2.INTER_NEAREST,\n",
    "                       same_dxdy=True, border_mode=cv2.BORDER_CONSTANT, fill=0, fill_mask=0, p=0.5),\n",
    "    A.ISONoise(color_shift=[0.01, 0.05], intensity=[0.1, 0.5], p=0.5),\n",
    "    A.Resize(384, 512)\n",
    "], additional_targets={'mask': 'mask'})\n",
    "\n",
    "# ---------------------- Folders -----------------------\n",
    "folder_prefix = r\"D:\\AAU Internship\\Code\\CWF-788\\IMAGE512x384\"\n",
    "folders = [\"train\", \"test\", \"validation\"]\n",
    "new_folders = [\"train_new\", \"test_new\", \"validation_new\"]\n",
    "mask_folders = [\"trainlabel\", \"testlabel\", \"validationlabel\"]\n",
    "new_mask_folders = [\"trainlabel_new\", \"testlabel_new\", \"validationlabel_new\"]\n",
    "img_ext = \".jpg\"\n",
    "mask_ext = \".png\"\n",
    "\n",
    "# ---------------------- Helper Functions -----------------------\n",
    "def get_image_files(folder, extension):\n",
    "    return [os.path.join(folder, f) for f in os.listdir(folder)\n",
    "            if os.path.splitext(f)[1].lower() == extension]\n",
    "\n",
    "def load_image(image_path):\n",
    "    img = cv2.imread(image_path)\n",
    "    if img is None:\n",
    "        raise ValueError(f\"Failed to load {image_path}\")\n",
    "    return cv2.cvtColor(img, cv2.COLOR_BGR2RGB)\n",
    "\n",
    "def load_mask(mask_path):\n",
    "    mask = cv2.imread(mask_path, cv2.IMREAD_GRAYSCALE)\n",
    "    if mask is None:\n",
    "        raise ValueError(f\"Failed to load {mask_path}\")\n",
    "    return mask\n",
    "\n",
    "def save_image(path, image_rgb):\n",
    "    image_bgr = cv2.cvtColor(image_rgb, cv2.COLOR_RGB2BGR)\n",
    "    cv2.imwrite(path, image_bgr)\n",
    "\n",
    "def save_mask(path, mask):\n",
    "    cv2.imwrite(path, mask)\n",
    "\n",
    "# ---------------------- Main Loop -----------------------\n",
    "for folder_div, new_folder_div, mask_folder_div, new_mask_folder_div in zip(folders, new_folders, mask_folders, new_mask_folders):\n",
    "    folder = os.path.join(folder_prefix, folder_div)\n",
    "    new_folder = os.path.join(folder_prefix, new_folder_div)\n",
    "    mask_folder = os.path.join(folder_prefix, mask_folder_div)\n",
    "    new_mask_folder = os.path.join(folder_prefix, new_mask_folder_div)\n",
    "\n",
    "    if not os.path.isdir(folder) or not os.path.isdir(mask_folder):\n",
    "        print(f\"Skipping invalid folder: {folder} or {mask_folder}\")\n",
    "        continue\n",
    "\n",
    "    os.makedirs(new_folder, exist_ok=True)\n",
    "    os.makedirs(new_mask_folder, exist_ok=True)\n",
    "\n",
    "    print(f\"\\n📁 Processing folder: {folder_div}\")\n",
    "    image_paths = get_image_files(folder, img_ext)\n",
    "    image_paths.sort()\n",
    "\n",
    "    images, masks, names = [], [], []\n",
    "\n",
    "    # Load original data\n",
    "    for path in image_paths:\n",
    "        image = load_image(path)\n",
    "        basename = os.path.splitext(os.path.basename(path))[0]\n",
    "        mask_path = os.path.join(mask_folder, basename + mask_ext)\n",
    "        mask = load_mask(mask_path)\n",
    "\n",
    "        images.append(image)\n",
    "        masks.append(mask)\n",
    "        names.append(basename)\n",
    "\n",
    "    orig_count = len(images)\n",
    "    all_aug_images, all_aug_masks, all_aug_names = [], [], []\n",
    "\n",
    "    # ----------------------- Environmental Augmentations -----------------------\n",
    "    for i, (image, mask, basename) in enumerate(tqdm(list(zip(images, masks, names)), desc=\"🌦️ Environmental Aug\")):\n",
    "        augmented = env_aug(image=image, mask=mask)\n",
    "        all_aug_images.append(augmented['image'])\n",
    "        all_aug_masks.append(augmented['mask'])\n",
    "        all_aug_names.append(f\"{orig_count + i + 1}_env\")\n",
    "\n",
    "    # ----------------------- Geometric Augmentations -----------------------\n",
    "    current_max_id = orig_count * 2\n",
    "    for i, (img, msk, _) in enumerate(tqdm(list(zip(images + all_aug_images, masks + all_aug_masks, names + all_aug_names)), desc=\"🌀 Geometric Aug\")):\n",
    "        augmented = geo_aug(image=img, mask=msk)\n",
    "        all_aug_images.append(augmented['image'])\n",
    "        all_aug_masks.append(augmented['mask'])\n",
    "        all_aug_names.append(f\"{current_max_id + i + 1}_geo\")\n",
    "\n",
    "    combined = list(zip(images + all_aug_images, masks + all_aug_masks, names + all_aug_names))\n",
    "    random.shuffle(combined)\n",
    "\n",
    "    for i, (img, msk, _) in enumerate(tqdm(combined, desc=\"💾 Saving\")):\n",
    "        new_name = f\"{i + 1}_image\"\n",
    "        save_image(os.path.join(new_folder, new_name + img_ext), img)\n",
    "        save_mask(os.path.join(new_mask_folder, new_name + mask_ext), msk)\n",
    "\n",
    "    print(f\"✅ {folder_div}: Original = {orig_count} | Final Augmented = {len(combined)} (4x)\")\n",
    "\n"
   ]
  },
  {
   "cell_type": "code",
   "execution_count": null,
   "id": "915491b5-6c66-4105-8dbe-3aee87adcf1b",
   "metadata": {},
   "outputs": [],
   "source": []
  }
 ],
 "metadata": {
  "kernelspec": {
   "display_name": "Python 3 (ipykernel)",
   "language": "python",
   "name": "python3"
  },
  "language_info": {
   "codemirror_mode": {
    "name": "ipython",
    "version": 3
   },
   "file_extension": ".py",
   "mimetype": "text/x-python",
   "name": "python",
   "nbconvert_exporter": "python",
   "pygments_lexer": "ipython3",
   "version": "3.12.10"
  }
 },
 "nbformat": 4,
 "nbformat_minor": 5
}
