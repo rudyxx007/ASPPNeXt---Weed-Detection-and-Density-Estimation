{
 "cells": [
  {
   "cell_type": "code",
   "execution_count": 1,
   "id": "550fe726-542f-47d2-ab73-2905ae98b42b",
   "metadata": {},
   "outputs": [],
   "source": [
    "import os\n",
    "import torch as T\n",
    "import torchvision as TV\n",
    "import torchaudio as TA\n",
    "import cv2\n",
    "import numpy as np\n",
    "import random\n",
    "from tqdm import tqdm\n",
    "import torch.nn as nn\n",
    "import torch.nn.functional as F\n",
    "from torchvision import transforms\n",
    "from torch import optim\n",
    "from torch.utils.data import DataLoader, Dataset\n",
    "import segmentation_models_pytorch as smp\n",
    "from glob import glob\n",
    "import albumentations as A\n",
    "from sklearn.metrics import accuracy_score, precision_score, f1_score, recall_score, confusion_matrix\n",
    "from pathlib import Path\n",
    "import segmentation_models_pytorch as smp"
   ]
  },
  {
   "cell_type": "code",
   "execution_count": 2,
   "id": "b23d4b15-751e-4e45-ad08-a040f8b3a3c6",
   "metadata": {},
   "outputs": [],
   "source": [
    "T.manual_seed(32)\n",
    "np.random.seed(32)\n",
    "random.seed(32)"
   ]
  },
  {
   "cell_type": "code",
   "execution_count": 3,
   "id": "536f24c4-31da-4781-8b6f-03a75276059b",
   "metadata": {},
   "outputs": [
    {
     "name": "stdout",
     "output_type": "stream",
     "text": [
      "Using device: cuda\n"
     ]
    }
   ],
   "source": [
    "# ---------------------- DEVICE -----------------------\n",
    "device = T.device(\"cuda\" if T.cuda.is_available() else \"cpu\")\n",
    "print(f\"Using device: {device}\")"
   ]
  },
  {
   "cell_type": "code",
   "execution_count": 4,
   "id": "9f30aa41-32ab-4d82-8665-74505221a475",
   "metadata": {},
   "outputs": [],
   "source": [
    "# ---------------------- Paths -----------------------\n",
    "train_images = r\"D:\\AAU Internship\\Code\\CWF-788\\IMAGE512x384\\train_new\"\n",
    "train_masks = r\"D:\\AAU Internship\\Code\\CWF-788\\IMAGE512x384\\trainlabel_new\"\n",
    "validation_images = r\"D:\\AAU Internship\\Code\\CWF-788\\IMAGE512x384\\validation_new\"\n",
    "validation_masks = r\"D:\\AAU Internship\\Code\\CWF-788\\IMAGE512x384\\validationlabel_new\"\n",
    "test_images = r\"D:\\AAU Internship\\Code\\CWF-788\\IMAGE512x384\\test_new\"\n",
    "test_masks = r\"D:\\AAU Internship\\Code\\CWF-788\\IMAGE512x384\\testlabel_new\""
   ]
  },
  {
   "cell_type": "code",
   "execution_count": 7,
   "id": "7e07beed-1b72-458b-b846-23816cd8bb0f",
   "metadata": {},
   "outputs": [
    {
     "name": "stderr",
     "output_type": "stream",
     "text": [
      "Verifying Training File Pairs 🔍: 100%|█████████████████████████████████████████| 1600/1600 [00:00<00:00, 89792.16it/s]\n",
      "Verifying Validation File Pairs 🔍: 100%|█████████████████████████████████████████| 352/352 [00:00<00:00, 58675.58it/s]\n",
      "Verifying Testing File Pairs 🔍: 100%|█████████████████████████████████████████| 1200/1200 [00:00<00:00, 104548.31it/s]"
     ]
    },
    {
     "name": "stdout",
     "output_type": "stream",
     "text": [
      "Training samples: 1600\n",
      "Validation samples: 352\n",
      "Testing samples: 1200\n"
     ]
    },
    {
     "name": "stderr",
     "output_type": "stream",
     "text": [
      "\n"
     ]
    }
   ],
   "source": [
    "# ---------------------- Simple Transform -----------------------\n",
    "transform = transforms.Compose([\n",
    "    transforms.ToTensor(),\n",
    "    transforms.Normalize(mean=[0.485, 0.456, 0.406], std=[0.229, 0.224, 0.225]),\n",
    "])\n",
    "\n",
    "# ---------------------- Simplified Dataset Class -----------------------\n",
    "from glob import glob\n",
    "import torch\n",
    "from torch.utils.data import Dataset, DataLoader\n",
    "import os\n",
    "import cv2\n",
    "import numpy as np\n",
    "from tqdm import tqdm\n",
    "\n",
    "class SimpleSegmentationDataset(Dataset):\n",
    "    def __init__(self, image_dir, mask_dir, transform=None, dataset_type=\"Unknown\"):\n",
    "        self.image_dir = image_dir\n",
    "        self.mask_dir = mask_dir\n",
    "        self.transform = transform\n",
    "        self.dataset_type = dataset_type\n",
    "        self.image_files = sorted(glob(os.path.join(image_dir, \"*.jpg\")))\n",
    "        self.mask_files = sorted(glob(os.path.join(mask_dir, \"*.png\")))\n",
    "        self._verify_file_pairs()\n",
    "        \n",
    "    def _verify_file_pairs(self):\n",
    "        if len(self.image_files) != len(self.mask_files):\n",
    "            raise ValueError(f\"Mismatched counts in {self.dataset_type} dataset: {len(self.image_files)} images vs {len(self.mask_files)} masks\")\n",
    "            \n",
    "        for img_path, mask_path in tqdm(zip(self.image_files, self.mask_files), total=len(self.image_files), desc=f\"Verifying {self.dataset_type} File Pairs 🔍\"):\n",
    "            img_name = os.path.splitext(os.path.basename(img_path))[0]\n",
    "            mask_name = os.path.splitext(os.path.basename(mask_path))[0]\n",
    "            if img_name != mask_name:\n",
    "                raise ValueError(f\"Filename mismatch in {self.dataset_type} dataset: {img_name} vs {mask_name}\")\n",
    "    \n",
    "    def __len__(self):\n",
    "        return len(self.image_files)\n",
    "    \n",
    "    def __getitem__(self, idx):\n",
    "        img = cv2.cvtColor(cv2.imread(self.image_files[idx]), cv2.COLOR_BGR2RGB)\n",
    "        mask = cv2.imread(self.mask_files[idx], cv2.IMREAD_GRAYSCALE)\n",
    "        mask = (mask > 127).astype(np.uint8)\n",
    "        if self.transform:\n",
    "            img = self.transform(img)\n",
    "        else:\n",
    "            img = transforms.ToTensor()(img)\n",
    "        \n",
    "        mask = T.from_numpy(mask).long()\n",
    "        \n",
    "        return img, mask, self.image_files[idx]\n",
    "\n",
    "def custom_collate_fn(batch):\n",
    "    images = torch.stack([item[0] for item in batch])\n",
    "    masks = torch.stack([item[1] for item in batch])\n",
    "    filenames = [item[2] for item in batch]\n",
    "    return images, masks, filenames\n",
    "\n",
    "# ---------------------- DataLoaders -----------------------\n",
    "train_dataset = SimpleSegmentationDataset(\n",
    "    image_dir=train_images,\n",
    "    mask_dir=train_masks,\n",
    "    transform=transform,\n",
    "    dataset_type=\"Training\"\n",
    ")\n",
    "val_dataset = SimpleSegmentationDataset(\n",
    "    image_dir=validation_images,\n",
    "    mask_dir=validation_masks,\n",
    "    transform=transform,\n",
    "    dataset_type=\"Validation\"\n",
    ")\n",
    "test_dataset = SimpleSegmentationDataset(\n",
    "    image_dir=test_images,\n",
    "    mask_dir=test_masks,\n",
    "    transform=transform,\n",
    "    dataset_type=\"Testing\"\n",
    ")\n",
    "\n",
    "train_dataloader = DataLoader(\n",
    "    train_dataset,\n",
    "    batch_size=4,\n",
    "    shuffle=True,\n",
    "    num_workers=0,\n",
    "    pin_memory=True,\n",
    "    collate_fn=custom_collate_fn\n",
    ")\n",
    "val_dataloader = DataLoader(\n",
    "    val_dataset,\n",
    "    batch_size=4,\n",
    "    shuffle=False,\n",
    "    num_workers=0,\n",
    "    pin_memory=True,\n",
    "    collate_fn=custom_collate_fn\n",
    ")\n",
    "test_dataloader = DataLoader(\n",
    "    test_dataset,\n",
    "    batch_size=4,\n",
    "    shuffle=False,\n",
    "    num_workers=0,\n",
    "    pin_memory=True,\n",
    "    collate_fn=custom_collate_fn\n",
    ")\n",
    "\n",
    "print(f\"Training samples: {len(train_dataset)}\")\n",
    "print(f\"Validation samples: {len(val_dataset)}\")\n",
    "print(f\"Testing samples: {len(test_dataset)}\")"
   ]
  },
  {
   "cell_type": "code",
   "execution_count": 6,
   "id": "e295ec20-319a-4744-a78d-59878f76264f",
   "metadata": {
    "scrolled": true
   },
   "outputs": [
    {
     "name": "stderr",
     "output_type": "stream",
     "text": [
      "Epoch 1 [Train]: 100%|███████████████████████████████████████████████████| 400/400 [05:19<00:00,  1.25it/s, loss=0.125]\n",
      "Validating: 100%|██████████████████████████████████████████████████████████| 88/88 [00:23<00:00,  3.82it/s, loss=0.163]\n"
     ]
    },
    {
     "name": "stdout",
     "output_type": "stream",
     "text": [
      "✅ New best mPA: 97.53% | Saved to: D:\\AAU Internship\\Code\\UNet-Models\\best_mPA_model.pth\n",
      "\n",
      "📊 Epoch 1 Summary:\n",
      "Train Loss: 0.2873 | Val Loss: 0.1488\n",
      "Accuracy: 99.17%\n",
      "mPA: 97.53%\n",
      "Crop IoU: 92.28%\n",
      "mIoU: 95.67%\n",
      "Precision: 96.51%\n",
      "Recall: 95.46%\n",
      "F1-Score: 95.98%\n",
      "FNR: 4.54%\n"
     ]
    },
    {
     "name": "stderr",
     "output_type": "stream",
     "text": [
      "Epoch 2 [Train]: 100%|███████████████████████████████████████████████████| 400/400 [05:16<00:00,  1.26it/s, loss=0.106]\n",
      "Validating: 100%|██████████████████████████████████████████████████████████| 88/88 [00:21<00:00,  4.17it/s, loss=0.133]\n"
     ]
    },
    {
     "name": "stdout",
     "output_type": "stream",
     "text": [
      "✅ New best mPA: 98.57% | Saved to: D:\\AAU Internship\\Code\\UNet-Models\\best_mPA_model.pth\n",
      "\n",
      "📊 Epoch 2 Summary:\n",
      "Train Loss: 0.1368 | Val Loss: 0.1226\n",
      "Accuracy: 99.37%\n",
      "mPA: 98.57%\n",
      "Crop IoU: 94.15%\n",
      "mIoU: 96.72%\n",
      "Precision: 96.42%\n",
      "Recall: 97.56%\n",
      "F1-Score: 96.99%\n",
      "FNR: 2.44%\n"
     ]
    },
    {
     "name": "stderr",
     "output_type": "stream",
     "text": [
      "Epoch 3 [Train]: 100%|██████████████████████████████████████████████████| 400/400 [05:20<00:00,  1.25it/s, loss=0.0855]\n",
      "Validating: 100%|██████████████████████████████████████████████████████████| 88/88 [00:21<00:00,  4.08it/s, loss=0.119]\n"
     ]
    },
    {
     "name": "stdout",
     "output_type": "stream",
     "text": [
      "\n",
      "📊 Epoch 3 Summary:\n",
      "Train Loss: 0.1185 | Val Loss: 0.1149\n",
      "Accuracy: 99.41%\n",
      "mPA: 98.38%\n",
      "Crop IoU: 94.47%\n",
      "mIoU: 96.90%\n",
      "Precision: 97.24%\n",
      "Recall: 97.07%\n",
      "F1-Score: 97.16%\n",
      "FNR: 2.93%\n"
     ]
    },
    {
     "name": "stderr",
     "output_type": "stream",
     "text": [
      "Epoch 4 [Train]: 100%|███████████████████████████████████████████████████| 400/400 [05:20<00:00,  1.25it/s, loss=0.107]\n",
      "Validating: 100%|██████████████████████████████████████████████████████████| 88/88 [00:22<00:00,  3.97it/s, loss=0.115]\n"
     ]
    },
    {
     "name": "stdout",
     "output_type": "stream",
     "text": [
      "\n",
      "📊 Epoch 4 Summary:\n",
      "Train Loss: 0.1106 | Val Loss: 0.1125\n",
      "Accuracy: 99.43%\n",
      "mPA: 98.46%\n",
      "Crop IoU: 94.68%\n",
      "mIoU: 97.02%\n",
      "Precision: 97.31%\n",
      "Recall: 97.23%\n",
      "F1-Score: 97.27%\n",
      "FNR: 2.77%\n"
     ]
    },
    {
     "name": "stderr",
     "output_type": "stream",
     "text": [
      "Epoch 5 [Train]: 100%|██████████████████████████████████████████████████| 400/400 [05:20<00:00,  1.25it/s, loss=0.0608]\n",
      "Validating: 100%|█████████████████████████████████████████████████████████| 88/88 [00:23<00:00,  3.79it/s, loss=0.0779]\n"
     ]
    },
    {
     "name": "stdout",
     "output_type": "stream",
     "text": [
      "\n",
      "📊 Epoch 5 Summary:\n",
      "Train Loss: 0.0699 | Val Loss: 0.0747\n",
      "Accuracy: 99.43%\n",
      "mPA: 98.42%\n",
      "Crop IoU: 94.65%\n",
      "mIoU: 97.01%\n",
      "Precision: 97.36%\n",
      "Recall: 97.14%\n",
      "F1-Score: 97.25%\n",
      "FNR: 2.86%\n"
     ]
    },
    {
     "name": "stderr",
     "output_type": "stream",
     "text": [
      "Epoch 6 [Train]: 100%|██████████████████████████████████████████████████| 400/400 [05:22<00:00,  1.24it/s, loss=0.0563]\n",
      "Validating: 100%|█████████████████████████████████████████████████████████| 88/88 [00:21<00:00,  4.04it/s, loss=0.0748]\n"
     ]
    },
    {
     "name": "stdout",
     "output_type": "stream",
     "text": [
      "\n",
      "📊 Epoch 6 Summary:\n",
      "Train Loss: 0.0678 | Val Loss: 0.0737\n",
      "Accuracy: 99.45%\n",
      "mPA: 98.52%\n",
      "Crop IoU: 94.83%\n",
      "mIoU: 97.11%\n",
      "Precision: 97.34%\n",
      "Recall: 97.35%\n",
      "F1-Score: 97.34%\n",
      "FNR: 2.65%\n"
     ]
    },
    {
     "name": "stderr",
     "output_type": "stream",
     "text": [
      "Epoch 7 [Train]: 100%|██████████████████████████████████████████████████| 400/400 [05:18<00:00,  1.26it/s, loss=0.0697]\n",
      "Validating: 100%|█████████████████████████████████████████████████████████| 88/88 [00:21<00:00,  4.09it/s, loss=0.0749]\n"
     ]
    },
    {
     "name": "stdout",
     "output_type": "stream",
     "text": [
      "\n",
      "📊 Epoch 7 Summary:\n",
      "Train Loss: 0.0670 | Val Loss: 0.0732\n",
      "Accuracy: 99.44%\n",
      "mPA: 98.28%\n",
      "Crop IoU: 94.71%\n",
      "mIoU: 97.04%\n",
      "Precision: 97.75%\n",
      "Recall: 96.81%\n",
      "F1-Score: 97.28%\n",
      "FNR: 3.19%\n"
     ]
    },
    {
     "name": "stderr",
     "output_type": "stream",
     "text": [
      "Epoch 8 [Train]: 100%|██████████████████████████████████████████████████| 400/400 [05:19<00:00,  1.25it/s, loss=0.0835]\n",
      "Validating: 100%|█████████████████████████████████████████████████████████| 88/88 [00:22<00:00,  3.93it/s, loss=0.0796]\n"
     ]
    },
    {
     "name": "stdout",
     "output_type": "stream",
     "text": [
      "\n",
      "📊 Epoch 8 Summary:\n",
      "Train Loss: 0.0651 | Val Loss: 0.0742\n",
      "Accuracy: 99.41%\n",
      "mPA: 98.10%\n",
      "Crop IoU: 94.46%\n",
      "mIoU: 96.90%\n",
      "Precision: 97.87%\n",
      "Recall: 96.44%\n",
      "F1-Score: 97.15%\n",
      "FNR: 3.56%\n"
     ]
    },
    {
     "name": "stderr",
     "output_type": "stream",
     "text": [
      "Epoch 9 [Train]: 100%|██████████████████████████████████████████████████| 400/400 [05:20<00:00,  1.25it/s, loss=0.0644]\n",
      "Validating: 100%|█████████████████████████████████████████████████████████| 88/88 [00:22<00:00,  3.85it/s, loss=0.0879]\n"
     ]
    },
    {
     "name": "stdout",
     "output_type": "stream",
     "text": [
      "\n",
      "📊 Epoch 9 Summary:\n",
      "Train Loss: 0.0751 | Val Loss: 0.0789\n",
      "Accuracy: 99.37%\n",
      "mPA: 98.38%\n",
      "Crop IoU: 94.16%\n",
      "mIoU: 96.73%\n",
      "Precision: 96.87%\n",
      "Recall: 97.12%\n",
      "F1-Score: 96.99%\n",
      "FNR: 2.88%\n"
     ]
    },
    {
     "name": "stderr",
     "output_type": "stream",
     "text": [
      "Epoch 10 [Train]: 100%|█████████████████████████████████████████████████| 400/400 [05:20<00:00,  1.25it/s, loss=0.0393]\n",
      "Validating: 100%|█████████████████████████████████████████████████████████| 88/88 [00:21<00:00,  4.01it/s, loss=0.0507]\n"
     ]
    },
    {
     "name": "stdout",
     "output_type": "stream",
     "text": [
      "\n",
      "📊 Epoch 10 Summary:\n",
      "Train Loss: 0.0435 | Val Loss: 0.0495\n",
      "Accuracy: 99.41%\n",
      "mPA: 98.04%\n",
      "Crop IoU: 94.47%\n",
      "mIoU: 96.91%\n",
      "Precision: 98.03%\n",
      "Recall: 96.30%\n",
      "F1-Score: 97.16%\n",
      "FNR: 3.70%\n"
     ]
    },
    {
     "name": "stderr",
     "output_type": "stream",
     "text": [
      "Epoch 11 [Train]: 100%|█████████████████████████████████████████████████| 400/400 [05:14<00:00,  1.27it/s, loss=0.0391]\n",
      "Validating: 100%|█████████████████████████████████████████████████████████| 88/88 [00:21<00:00,  4.04it/s, loss=0.0518]\n"
     ]
    },
    {
     "name": "stdout",
     "output_type": "stream",
     "text": [
      "\n",
      "📊 Epoch 11 Summary:\n",
      "Train Loss: 0.0404 | Val Loss: 0.0484\n",
      "Accuracy: 99.46%\n",
      "mPA: 98.54%\n",
      "Crop IoU: 94.92%\n",
      "mIoU: 97.16%\n",
      "Precision: 97.41%\n",
      "Recall: 97.37%\n",
      "F1-Score: 97.39%\n",
      "FNR: 2.63%\n"
     ]
    },
    {
     "name": "stderr",
     "output_type": "stream",
     "text": [
      "Epoch 12 [Train]: 100%|█████████████████████████████████████████████████| 400/400 [05:15<00:00,  1.27it/s, loss=0.0367]\n",
      "Validating: 100%|█████████████████████████████████████████████████████████| 88/88 [00:21<00:00,  4.13it/s, loss=0.0536]\n"
     ]
    },
    {
     "name": "stdout",
     "output_type": "stream",
     "text": [
      "\n",
      "📊 Epoch 12 Summary:\n",
      "Train Loss: 0.0400 | Val Loss: 0.0499\n",
      "Accuracy: 99.40%\n",
      "mPA: 98.00%\n",
      "Crop IoU: 94.37%\n",
      "mIoU: 96.85%\n",
      "Precision: 98.00%\n",
      "Recall: 96.22%\n",
      "F1-Score: 97.10%\n",
      "FNR: 3.78%\n"
     ]
    },
    {
     "name": "stderr",
     "output_type": "stream",
     "text": [
      "Epoch 13 [Train]: 100%|█████████████████████████████████████████████████| 400/400 [05:17<00:00,  1.26it/s, loss=0.0377]\n",
      "Validating: 100%|█████████████████████████████████████████████████████████| 88/88 [00:21<00:00,  4.13it/s, loss=0.0485]\n"
     ]
    },
    {
     "name": "stdout",
     "output_type": "stream",
     "text": [
      "\n",
      "📊 Epoch 13 Summary:\n",
      "Train Loss: 0.0401 | Val Loss: 0.0492\n",
      "Accuracy: 99.42%\n",
      "mPA: 98.04%\n",
      "Crop IoU: 94.50%\n",
      "mIoU: 96.92%\n",
      "Precision: 98.06%\n",
      "Recall: 96.29%\n",
      "F1-Score: 97.17%\n",
      "FNR: 3.71%\n"
     ]
    },
    {
     "name": "stderr",
     "output_type": "stream",
     "text": [
      "Epoch 14 [Train]: 100%|█████████████████████████████████████████████████| 400/400 [05:24<00:00,  1.23it/s, loss=0.0427]\n",
      "Validating: 100%|█████████████████████████████████████████████████████████| 88/88 [00:21<00:00,  4.03it/s, loss=0.0497]\n"
     ]
    },
    {
     "name": "stdout",
     "output_type": "stream",
     "text": [
      "✅ New best mPA: 98.61% | Saved to: D:\\AAU Internship\\Code\\UNet-Models\\best_mPA_model.pth\n",
      "\n",
      "📊 Epoch 14 Summary:\n",
      "Train Loss: 0.0394 | Val Loss: 0.0513\n",
      "Accuracy: 99.42%\n",
      "mPA: 98.61%\n",
      "Crop IoU: 94.60%\n",
      "mIoU: 96.97%\n",
      "Precision: 96.85%\n",
      "Recall: 97.59%\n",
      "F1-Score: 97.22%\n",
      "FNR: 2.41%\n"
     ]
    },
    {
     "name": "stderr",
     "output_type": "stream",
     "text": [
      "Epoch 15 [Train]: 100%|█████████████████████████████████████████████████| 400/400 [05:15<00:00,  1.27it/s, loss=0.0211]\n",
      "Validating: 100%|█████████████████████████████████████████████████████████| 88/88 [00:21<00:00,  4.03it/s, loss=0.0327]\n"
     ]
    },
    {
     "name": "stdout",
     "output_type": "stream",
     "text": [
      "\n",
      "📊 Epoch 15 Summary:\n",
      "Train Loss: 0.0247 | Val Loss: 0.0325\n",
      "Accuracy: 99.45%\n",
      "mPA: 98.47%\n",
      "Crop IoU: 94.88%\n",
      "mIoU: 97.14%\n",
      "Precision: 97.52%\n",
      "Recall: 97.22%\n",
      "F1-Score: 97.37%\n",
      "FNR: 2.78%\n"
     ]
    },
    {
     "name": "stderr",
     "output_type": "stream",
     "text": [
      "Epoch 16 [Train]: 100%|█████████████████████████████████████████████████| 400/400 [05:19<00:00,  1.25it/s, loss=0.0247]\n",
      "Validating: 100%|█████████████████████████████████████████████████████████| 88/88 [00:21<00:00,  4.01it/s, loss=0.0299]\n"
     ]
    },
    {
     "name": "stdout",
     "output_type": "stream",
     "text": [
      "\n",
      "📊 Epoch 16 Summary:\n",
      "Train Loss: 0.0240 | Val Loss: 0.0323\n",
      "Accuracy: 99.45%\n",
      "mPA: 98.31%\n",
      "Crop IoU: 94.84%\n",
      "mIoU: 97.12%\n",
      "Precision: 97.83%\n",
      "Recall: 96.88%\n",
      "F1-Score: 97.35%\n",
      "FNR: 3.12%\n"
     ]
    },
    {
     "name": "stderr",
     "output_type": "stream",
     "text": [
      "Epoch 17 [Train]: 100%|██████████████████████████████████████████████████| 400/400 [05:14<00:00,  1.27it/s, loss=0.033]\n",
      "Validating: 100%|█████████████████████████████████████████████████████████| 88/88 [00:20<00:00,  4.21it/s, loss=0.0319]\n"
     ]
    },
    {
     "name": "stdout",
     "output_type": "stream",
     "text": [
      "\n",
      "📊 Epoch 17 Summary:\n",
      "Train Loss: 0.0233 | Val Loss: 0.0323\n",
      "Accuracy: 99.44%\n",
      "mPA: 98.22%\n",
      "Crop IoU: 94.77%\n",
      "mIoU: 97.08%\n",
      "Precision: 97.97%\n",
      "Recall: 96.67%\n",
      "F1-Score: 97.32%\n",
      "FNR: 3.33%\n"
     ]
    },
    {
     "name": "stderr",
     "output_type": "stream",
     "text": [
      "Epoch 18 [Train]: 100%|█████████████████████████████████████████████████| 400/400 [05:13<00:00,  1.28it/s, loss=0.0253]\n",
      "Validating: 100%|█████████████████████████████████████████████████████████| 88/88 [00:21<00:00,  4.00it/s, loss=0.0329]\n"
     ]
    },
    {
     "name": "stdout",
     "output_type": "stream",
     "text": [
      "\n",
      "📊 Epoch 18 Summary:\n",
      "Train Loss: 0.0230 | Val Loss: 0.0324\n",
      "Accuracy: 99.45%\n",
      "mPA: 98.30%\n",
      "Crop IoU: 94.81%\n",
      "mIoU: 97.10%\n",
      "Precision: 97.82%\n",
      "Recall: 96.86%\n",
      "F1-Score: 97.33%\n",
      "FNR: 3.14%\n"
     ]
    },
    {
     "name": "stderr",
     "output_type": "stream",
     "text": [
      "Epoch 19 [Train]: 100%|██████████████████████████████████████████████████| 400/400 [05:15<00:00,  1.27it/s, loss=0.025]\n",
      "Validating: 100%|█████████████████████████████████████████████████████████| 88/88 [00:21<00:00,  4.10it/s, loss=0.0364]\n"
     ]
    },
    {
     "name": "stdout",
     "output_type": "stream",
     "text": [
      "\n",
      "📊 Epoch 19 Summary:\n",
      "Train Loss: 0.0235 | Val Loss: 0.0330\n",
      "Accuracy: 99.45%\n",
      "mPA: 98.59%\n",
      "Crop IoU: 94.86%\n",
      "mIoU: 97.12%\n",
      "Precision: 97.23%\n",
      "Recall: 97.49%\n",
      "F1-Score: 97.36%\n",
      "FNR: 2.51%\n"
     ]
    },
    {
     "name": "stderr",
     "output_type": "stream",
     "text": [
      "Epoch 20 [Train]: 100%|█████████████████████████████████████████████████| 400/400 [05:14<00:00,  1.27it/s, loss=0.0154]\n",
      "Validating: 100%|█████████████████████████████████████████████████████████| 88/88 [00:22<00:00,  3.88it/s, loss=0.0275]\n"
     ]
    },
    {
     "name": "stdout",
     "output_type": "stream",
     "text": [
      "\n",
      "📊 Epoch 20 Summary:\n",
      "Train Loss: 0.0143 | Val Loss: 0.0224\n",
      "Accuracy: 99.45%\n",
      "mPA: 98.61%\n",
      "Crop IoU: 94.87%\n",
      "mIoU: 97.13%\n",
      "Precision: 97.19%\n",
      "Recall: 97.54%\n",
      "F1-Score: 97.36%\n",
      "FNR: 2.46%\n"
     ]
    },
    {
     "name": "stderr",
     "output_type": "stream",
     "text": [
      "Epoch 21 [Train]: 100%|█████████████████████████████████████████████████| 400/400 [05:30<00:00,  1.21it/s, loss=0.0126]\n",
      "Validating: 100%|█████████████████████████████████████████████████████████| 88/88 [00:21<00:00,  4.07it/s, loss=0.0342]\n"
     ]
    },
    {
     "name": "stdout",
     "output_type": "stream",
     "text": [
      "✅ New best mPA: 98.67% | Saved to: D:\\AAU Internship\\Code\\UNet-Models\\best_mPA_model.pth\n",
      "\n",
      "📊 Epoch 21 Summary:\n",
      "Train Loss: 0.0144 | Val Loss: 0.0248\n",
      "Accuracy: 99.38%\n",
      "mPA: 98.67%\n",
      "Crop IoU: 94.31%\n",
      "mIoU: 96.81%\n",
      "Precision: 96.38%\n",
      "Recall: 97.77%\n",
      "F1-Score: 97.07%\n",
      "FNR: 2.23%\n"
     ]
    },
    {
     "name": "stderr",
     "output_type": "stream",
     "text": [
      "Epoch 22 [Train]: 100%|█████████████████████████████████████████████████| 400/400 [05:11<00:00,  1.28it/s, loss=0.0168]\n",
      "Validating: 100%|█████████████████████████████████████████████████████████| 88/88 [00:20<00:00,  4.20it/s, loss=0.0239]\n"
     ]
    },
    {
     "name": "stdout",
     "output_type": "stream",
     "text": [
      "\n",
      "📊 Epoch 22 Summary:\n",
      "Train Loss: 0.0141 | Val Loss: 0.0216\n",
      "Accuracy: 99.47%\n",
      "mPA: 98.61%\n",
      "Crop IoU: 95.07%\n",
      "mIoU: 97.24%\n",
      "Precision: 97.42%\n",
      "Recall: 97.53%\n",
      "F1-Score: 97.47%\n",
      "FNR: 2.47%\n"
     ]
    },
    {
     "name": "stderr",
     "output_type": "stream",
     "text": [
      "Epoch 23 [Train]: 100%|█████████████████████████████████████████████████| 400/400 [05:18<00:00,  1.26it/s, loss=0.0145]\n",
      "Validating: 100%|█████████████████████████████████████████████████████████| 88/88 [00:21<00:00,  4.11it/s, loss=0.0229]\n"
     ]
    },
    {
     "name": "stdout",
     "output_type": "stream",
     "text": [
      "\n",
      "📊 Epoch 23 Summary:\n",
      "Train Loss: 0.0141 | Val Loss: 0.0220\n",
      "Accuracy: 99.45%\n",
      "mPA: 98.42%\n",
      "Crop IoU: 94.88%\n",
      "mIoU: 97.14%\n",
      "Precision: 97.62%\n",
      "Recall: 97.12%\n",
      "F1-Score: 97.37%\n",
      "FNR: 2.88%\n"
     ]
    },
    {
     "name": "stderr",
     "output_type": "stream",
     "text": [
      "Epoch 24 [Train]: 100%|█████████████████████████████████████████████████| 400/400 [05:12<00:00,  1.28it/s, loss=0.0124]\n",
      "Validating: 100%|█████████████████████████████████████████████████████████| 88/88 [00:22<00:00,  3.92it/s, loss=0.0228]\n"
     ]
    },
    {
     "name": "stdout",
     "output_type": "stream",
     "text": [
      "\n",
      "📊 Epoch 24 Summary:\n",
      "Train Loss: 0.0136 | Val Loss: 0.0217\n",
      "Accuracy: 99.47%\n",
      "mPA: 98.56%\n",
      "Crop IoU: 95.02%\n",
      "mIoU: 97.21%\n",
      "Precision: 97.48%\n",
      "Recall: 97.41%\n",
      "F1-Score: 97.45%\n",
      "FNR: 2.59%\n"
     ]
    },
    {
     "name": "stderr",
     "output_type": "stream",
     "text": [
      "Epoch 25 [Train]: 100%|████████████████████████████████████████████████| 400/400 [05:21<00:00,  1.24it/s, loss=0.00726]\n",
      "Validating: 100%|█████████████████████████████████████████████████████████| 88/88 [00:21<00:00,  4.04it/s, loss=0.0158]\n"
     ]
    },
    {
     "name": "stdout",
     "output_type": "stream",
     "text": [
      "\n",
      "📊 Epoch 25 Summary:\n",
      "Train Loss: 0.0085 | Val Loss: 0.0148\n",
      "Accuracy: 99.46%\n",
      "mPA: 98.40%\n",
      "Crop IoU: 94.94%\n",
      "mIoU: 97.17%\n",
      "Precision: 97.76%\n",
      "Recall: 97.06%\n",
      "F1-Score: 97.41%\n",
      "FNR: 2.94%\n"
     ]
    },
    {
     "name": "stderr",
     "output_type": "stream",
     "text": [
      "Epoch 26 [Train]: 100%|████████████████████████████████████████████████| 400/400 [05:19<00:00,  1.25it/s, loss=0.00905]\n",
      "Validating: 100%|█████████████████████████████████████████████████████████| 88/88 [00:22<00:00,  3.90it/s, loss=0.0169]\n"
     ]
    },
    {
     "name": "stdout",
     "output_type": "stream",
     "text": [
      "\n",
      "📊 Epoch 26 Summary:\n",
      "Train Loss: 0.0084 | Val Loss: 0.0151\n",
      "Accuracy: 99.45%\n",
      "mPA: 98.53%\n",
      "Crop IoU: 94.89%\n",
      "mIoU: 97.14%\n",
      "Precision: 97.40%\n",
      "Recall: 97.36%\n",
      "F1-Score: 97.38%\n",
      "FNR: 2.64%\n"
     ]
    },
    {
     "name": "stderr",
     "output_type": "stream",
     "text": [
      "Epoch 27 [Train]: 100%|████████████████████████████████████████████████| 400/400 [05:25<00:00,  1.23it/s, loss=0.00837]\n",
      "Validating: 100%|██████████████████████████████████████████████████████████| 88/88 [00:22<00:00,  3.88it/s, loss=0.015]\n"
     ]
    },
    {
     "name": "stdout",
     "output_type": "stream",
     "text": [
      "\n",
      "📊 Epoch 27 Summary:\n",
      "Train Loss: 0.0084 | Val Loss: 0.0149\n",
      "Accuracy: 99.46%\n",
      "mPA: 98.29%\n",
      "Crop IoU: 94.90%\n",
      "mIoU: 97.15%\n",
      "Precision: 97.96%\n",
      "Recall: 96.82%\n",
      "F1-Score: 97.38%\n",
      "FNR: 3.18%\n"
     ]
    },
    {
     "name": "stderr",
     "output_type": "stream",
     "text": [
      "Epoch 28 [Train]: 100%|█████████████████████████████████████████████████| 400/400 [05:24<00:00,  1.23it/s, loss=0.0102]\n",
      "Validating: 100%|█████████████████████████████████████████████████████████| 88/88 [00:22<00:00,  3.98it/s, loss=0.0158]\n"
     ]
    },
    {
     "name": "stdout",
     "output_type": "stream",
     "text": [
      "\n",
      "📊 Epoch 28 Summary:\n",
      "Train Loss: 0.0084 | Val Loss: 0.0146\n",
      "Accuracy: 99.47%\n",
      "mPA: 98.56%\n",
      "Crop IoU: 95.07%\n",
      "mIoU: 97.24%\n",
      "Precision: 97.54%\n",
      "Recall: 97.40%\n",
      "F1-Score: 97.47%\n",
      "FNR: 2.60%\n"
     ]
    },
    {
     "name": "stderr",
     "output_type": "stream",
     "text": [
      "Epoch 29 [Train]: 100%|█████████████████████████████████████████████████| 400/400 [05:26<00:00,  1.22it/s, loss=0.0096]\n",
      "Validating: 100%|█████████████████████████████████████████████████████████| 88/88 [00:21<00:00,  4.00it/s, loss=0.0169]\n"
     ]
    },
    {
     "name": "stdout",
     "output_type": "stream",
     "text": [
      "\n",
      "📊 Epoch 29 Summary:\n",
      "Train Loss: 0.0084 | Val Loss: 0.0147\n",
      "Accuracy: 99.47%\n",
      "mPA: 98.64%\n",
      "Crop IoU: 95.04%\n",
      "mIoU: 97.23%\n",
      "Precision: 97.33%\n",
      "Recall: 97.59%\n",
      "F1-Score: 97.46%\n",
      "FNR: 2.41%\n"
     ]
    },
    {
     "name": "stderr",
     "output_type": "stream",
     "text": [
      "Epoch 30 [Train]: 100%|████████████████████████████████████████████████| 400/400 [05:23<00:00,  1.23it/s, loss=0.00621]\n",
      "Validating: 100%|████████████████████████████████████████████████████████| 88/88 [00:22<00:00,  3.92it/s, loss=0.00989]\n"
     ]
    },
    {
     "name": "stdout",
     "output_type": "stream",
     "text": [
      "✅ New best mPA: 98.69% | Saved to: D:\\AAU Internship\\Code\\UNet-Models\\best_mPA_model.pth\n",
      "\n",
      "📊 Epoch 30 Summary:\n",
      "Train Loss: 0.0052 | Val Loss: 0.0100\n",
      "Accuracy: 99.47%\n",
      "mPA: 98.69%\n",
      "Crop IoU: 95.07%\n",
      "mIoU: 97.24%\n",
      "Precision: 97.25%\n",
      "Recall: 97.69%\n",
      "F1-Score: 97.47%\n",
      "FNR: 2.31%\n"
     ]
    },
    {
     "name": "stderr",
     "output_type": "stream",
     "text": [
      "Epoch 31 [Train]: 100%|████████████████████████████████████████████████| 400/400 [05:25<00:00,  1.23it/s, loss=0.00664]\n",
      "Validating: 100%|█████████████████████████████████████████████████████████| 88/88 [00:21<00:00,  4.07it/s, loss=0.0118]\n"
     ]
    },
    {
     "name": "stdout",
     "output_type": "stream",
     "text": [
      "\n",
      "📊 Epoch 31 Summary:\n",
      "Train Loss: 0.0054 | Val Loss: 0.0106\n",
      "Accuracy: 99.44%\n",
      "mPA: 98.39%\n",
      "Crop IoU: 94.75%\n",
      "mIoU: 97.06%\n",
      "Precision: 97.55%\n",
      "Recall: 97.06%\n",
      "F1-Score: 97.30%\n",
      "FNR: 2.94%\n"
     ]
    },
    {
     "name": "stderr",
     "output_type": "stream",
     "text": [
      "Epoch 32 [Train]: 100%|████████████████████████████████████████████████| 400/400 [05:21<00:00,  1.25it/s, loss=0.00564]\n",
      "Validating: 100%|█████████████████████████████████████████████████████████| 88/88 [00:22<00:00,  3.91it/s, loss=0.0166]\n"
     ]
    },
    {
     "name": "stdout",
     "output_type": "stream",
     "text": [
      "✅ New best mPA: 98.82% | Saved to: D:\\AAU Internship\\Code\\UNet-Models\\best_mPA_model.pth\n",
      "\n",
      "📊 Epoch 32 Summary:\n",
      "Train Loss: 0.0053 | Val Loss: 0.0128\n",
      "Accuracy: 99.34%\n",
      "mPA: 98.82%\n",
      "Crop IoU: 93.90%\n",
      "mIoU: 96.58%\n",
      "Precision: 95.57%\n",
      "Recall: 98.18%\n",
      "F1-Score: 96.86%\n",
      "FNR: 1.82%\n"
     ]
    },
    {
     "name": "stderr",
     "output_type": "stream",
     "text": [
      "Epoch 33 [Train]: 100%|████████████████████████████████████████████████| 400/400 [05:19<00:00,  1.25it/s, loss=0.00589]\n",
      "Validating: 100%|█████████████████████████████████████████████████████████| 88/88 [00:22<00:00,  3.85it/s, loss=0.0105]\n"
     ]
    },
    {
     "name": "stdout",
     "output_type": "stream",
     "text": [
      "\n",
      "📊 Epoch 33 Summary:\n",
      "Train Loss: 0.0051 | Val Loss: 0.0099\n",
      "Accuracy: 99.48%\n",
      "mPA: 98.67%\n",
      "Crop IoU: 95.11%\n",
      "mIoU: 97.26%\n",
      "Precision: 97.34%\n",
      "Recall: 97.65%\n",
      "F1-Score: 97.49%\n",
      "FNR: 2.35%\n"
     ]
    },
    {
     "name": "stderr",
     "output_type": "stream",
     "text": [
      "Epoch 34 [Train]: 100%|████████████████████████████████████████████████| 400/400 [05:24<00:00,  1.23it/s, loss=0.00422]\n",
      "Validating: 100%|█████████████████████████████████████████████████████████| 88/88 [00:22<00:00,  3.94it/s, loss=0.0104]\n"
     ]
    },
    {
     "name": "stdout",
     "output_type": "stream",
     "text": [
      "\n",
      "📊 Epoch 34 Summary:\n",
      "Train Loss: 0.0051 | Val Loss: 0.0099\n",
      "Accuracy: 99.47%\n",
      "mPA: 98.64%\n",
      "Crop IoU: 95.08%\n",
      "mIoU: 97.25%\n",
      "Precision: 97.37%\n",
      "Recall: 97.59%\n",
      "F1-Score: 97.48%\n",
      "FNR: 2.41%\n"
     ]
    },
    {
     "name": "stderr",
     "output_type": "stream",
     "text": [
      "Epoch 35 [Train]: 100%|████████████████████████████████████████████████| 400/400 [05:25<00:00,  1.23it/s, loss=0.00394]\n",
      "Validating: 100%|████████████████████████████████████████████████████████| 88/88 [00:22<00:00,  3.87it/s, loss=0.00717]\n"
     ]
    },
    {
     "name": "stdout",
     "output_type": "stream",
     "text": [
      "\n",
      "📊 Epoch 35 Summary:\n",
      "Train Loss: 0.0032 | Val Loss: 0.0068\n",
      "Accuracy: 99.47%\n",
      "mPA: 98.82%\n",
      "Crop IoU: 95.04%\n",
      "mIoU: 97.22%\n",
      "Precision: 96.91%\n",
      "Recall: 98.01%\n",
      "F1-Score: 97.45%\n",
      "FNR: 1.99%\n"
     ]
    },
    {
     "name": "stderr",
     "output_type": "stream",
     "text": [
      "Epoch 36 [Train]: 100%|████████████████████████████████████████████████| 400/400 [05:24<00:00,  1.23it/s, loss=0.00312]\n",
      "Validating: 100%|█████████████████████████████████████████████████████████| 88/88 [00:21<00:00,  4.08it/s, loss=0.0081]\n"
     ]
    },
    {
     "name": "stdout",
     "output_type": "stream",
     "text": [
      "\n",
      "📊 Epoch 36 Summary:\n",
      "Train Loss: 0.0034 | Val Loss: 0.0069\n",
      "Accuracy: 99.47%\n",
      "mPA: 98.61%\n",
      "Crop IoU: 95.04%\n",
      "mIoU: 97.22%\n",
      "Precision: 97.39%\n",
      "Recall: 97.52%\n",
      "F1-Score: 97.46%\n",
      "FNR: 2.48%\n"
     ]
    },
    {
     "name": "stderr",
     "output_type": "stream",
     "text": [
      "Epoch 37 [Train]: 100%|████████████████████████████████████████████████| 400/400 [04:53<00:00,  1.36it/s, loss=0.00382]\n",
      "Validating: 100%|█████████████████████████████████████████████████████████| 88/88 [00:21<00:00,  4.14it/s, loss=0.0133]\n"
     ]
    },
    {
     "name": "stdout",
     "output_type": "stream",
     "text": [
      "\n",
      "📊 Epoch 37 Summary:\n",
      "Train Loss: 0.0032 | Val Loss: 0.0073\n",
      "Accuracy: 99.44%\n",
      "mPA: 98.58%\n",
      "Crop IoU: 94.78%\n",
      "mIoU: 97.08%\n",
      "Precision: 97.14%\n",
      "Recall: 97.50%\n",
      "F1-Score: 97.32%\n",
      "FNR: 2.50%\n"
     ]
    },
    {
     "name": "stderr",
     "output_type": "stream",
     "text": [
      "Epoch 38 [Train]: 100%|████████████████████████████████████████████████| 400/400 [05:07<00:00,  1.30it/s, loss=0.00514]\n",
      "Validating: 100%|████████████████████████████████████████████████████████| 88/88 [00:21<00:00,  4.07it/s, loss=0.00784]\n"
     ]
    },
    {
     "name": "stdout",
     "output_type": "stream",
     "text": [
      "\n",
      "📊 Epoch 38 Summary:\n",
      "Train Loss: 0.0031 | Val Loss: 0.0070\n",
      "Accuracy: 99.46%\n",
      "mPA: 98.40%\n",
      "Crop IoU: 94.97%\n",
      "mIoU: 97.19%\n",
      "Precision: 97.79%\n",
      "Recall: 97.05%\n",
      "F1-Score: 97.42%\n",
      "FNR: 2.95%\n"
     ]
    },
    {
     "name": "stderr",
     "output_type": "stream",
     "text": [
      "Epoch 39 [Train]: 100%|████████████████████████████████████████████████| 400/400 [05:07<00:00,  1.30it/s, loss=0.00337]\n",
      "Validating: 100%|████████████████████████████████████████████████████████| 88/88 [00:21<00:00,  4.12it/s, loss=0.00719]\n"
     ]
    },
    {
     "name": "stdout",
     "output_type": "stream",
     "text": [
      "\n",
      "📊 Epoch 39 Summary:\n",
      "Train Loss: 0.0031 | Val Loss: 0.0069\n",
      "Accuracy: 99.47%\n",
      "mPA: 98.67%\n",
      "Crop IoU: 95.03%\n",
      "mIoU: 97.22%\n",
      "Precision: 97.24%\n",
      "Recall: 97.67%\n",
      "F1-Score: 97.45%\n",
      "FNR: 2.33%\n"
     ]
    },
    {
     "name": "stderr",
     "output_type": "stream",
     "text": [
      "Epoch 40 [Train]: 100%|████████████████████████████████████████████████| 400/400 [05:06<00:00,  1.30it/s, loss=0.00146]\n",
      "Validating: 100%|████████████████████████████████████████████████████████| 88/88 [00:22<00:00,  3.95it/s, loss=0.00458]\n"
     ]
    },
    {
     "name": "stdout",
     "output_type": "stream",
     "text": [
      "\n",
      "📊 Epoch 40 Summary:\n",
      "Train Loss: 0.0019 | Val Loss: 0.0047\n",
      "Accuracy: 99.47%\n",
      "mPA: 98.56%\n",
      "Crop IoU: 95.07%\n",
      "mIoU: 97.24%\n",
      "Precision: 97.53%\n",
      "Recall: 97.42%\n",
      "F1-Score: 97.47%\n",
      "FNR: 2.58%\n"
     ]
    },
    {
     "name": "stderr",
     "output_type": "stream",
     "text": [
      "Epoch 41 [Train]: 100%|████████████████████████████████████████████████| 400/400 [05:14<00:00,  1.27it/s, loss=0.00214]\n",
      "Validating: 100%|████████████████████████████████████████████████████████| 88/88 [00:23<00:00,  3.68it/s, loss=0.00551]\n"
     ]
    },
    {
     "name": "stdout",
     "output_type": "stream",
     "text": [
      "\n",
      "📊 Epoch 41 Summary:\n",
      "Train Loss: 0.0019 | Val Loss: 0.0047\n",
      "Accuracy: 99.47%\n",
      "mPA: 98.72%\n",
      "Crop IoU: 95.05%\n",
      "mIoU: 97.23%\n",
      "Precision: 97.16%\n",
      "Recall: 97.77%\n",
      "F1-Score: 97.46%\n",
      "FNR: 2.23%\n"
     ]
    },
    {
     "name": "stderr",
     "output_type": "stream",
     "text": [
      "Epoch 42 [Train]: 100%|████████████████████████████████████████████████| 400/400 [05:15<00:00,  1.27it/s, loss=0.00251]\n",
      "Validating: 100%|████████████████████████████████████████████████████████| 88/88 [00:21<00:00,  4.16it/s, loss=0.00699]\n"
     ]
    },
    {
     "name": "stdout",
     "output_type": "stream",
     "text": [
      "✅ New best mPA: 98.95% | Saved to: D:\\AAU Internship\\Code\\UNet-Models\\best_mPA_model.pth\n",
      "\n",
      "📊 Epoch 42 Summary:\n",
      "Train Loss: 0.0019 | Val Loss: 0.0048\n",
      "Accuracy: 99.44%\n",
      "mPA: 98.95%\n",
      "Crop IoU: 94.84%\n",
      "mIoU: 97.11%\n",
      "Precision: 96.39%\n",
      "Recall: 98.32%\n",
      "F1-Score: 97.35%\n",
      "FNR: 1.68%\n"
     ]
    },
    {
     "name": "stderr",
     "output_type": "stream",
     "text": [
      "Epoch 43 [Train]: 100%|████████████████████████████████████████████████| 400/400 [04:59<00:00,  1.34it/s, loss=0.00169]\n",
      "Validating: 100%|██████████████████████████████████████████████████████████| 88/88 [00:20<00:00,  4.21it/s, loss=0.005]\n"
     ]
    },
    {
     "name": "stdout",
     "output_type": "stream",
     "text": [
      "\n",
      "📊 Epoch 43 Summary:\n",
      "Train Loss: 0.0019 | Val Loss: 0.0047\n",
      "Accuracy: 99.46%\n",
      "mPA: 98.79%\n",
      "Crop IoU: 95.01%\n",
      "mIoU: 97.21%\n",
      "Precision: 96.95%\n",
      "Recall: 97.93%\n",
      "F1-Score: 97.44%\n",
      "FNR: 2.07%\n"
     ]
    },
    {
     "name": "stderr",
     "output_type": "stream",
     "text": [
      "Epoch 44 [Train]: 100%|████████████████████████████████████████████████| 400/400 [04:59<00:00,  1.34it/s, loss=0.00195]\n",
      "Validating: 100%|█████████████████████████████████████████████████████████| 88/88 [00:21<00:00,  4.14it/s, loss=0.0053]\n"
     ]
    },
    {
     "name": "stdout",
     "output_type": "stream",
     "text": [
      "\n",
      "📊 Epoch 44 Summary:\n",
      "Train Loss: 0.0018 | Val Loss: 0.0048\n",
      "Accuracy: 99.46%\n",
      "mPA: 98.58%\n",
      "Crop IoU: 94.96%\n",
      "mIoU: 97.18%\n",
      "Precision: 97.36%\n",
      "Recall: 97.47%\n",
      "F1-Score: 97.42%\n",
      "FNR: 2.53%\n"
     ]
    },
    {
     "name": "stderr",
     "output_type": "stream",
     "text": [
      "Epoch 45 [Train]: 100%|████████████████████████████████████████████████| 400/400 [05:13<00:00,  1.28it/s, loss=0.00112]\n",
      "Validating: 100%|████████████████████████████████████████████████████████| 88/88 [00:21<00:00,  4.00it/s, loss=0.00339]\n"
     ]
    },
    {
     "name": "stdout",
     "output_type": "stream",
     "text": [
      "\n",
      "📊 Epoch 45 Summary:\n",
      "Train Loss: 0.0011 | Val Loss: 0.0031\n",
      "Accuracy: 99.46%\n",
      "mPA: 98.88%\n",
      "Crop IoU: 94.99%\n",
      "mIoU: 97.19%\n",
      "Precision: 96.72%\n",
      "Recall: 98.15%\n",
      "F1-Score: 97.43%\n",
      "FNR: 1.85%\n"
     ]
    },
    {
     "name": "stderr",
     "output_type": "stream",
     "text": [
      "Epoch 46 [Train]: 100%|████████████████████████████████████████████████| 400/400 [05:16<00:00,  1.27it/s, loss=0.00109]\n",
      "Validating: 100%|████████████████████████████████████████████████████████| 88/88 [00:22<00:00,  3.91it/s, loss=0.00374]\n"
     ]
    },
    {
     "name": "stdout",
     "output_type": "stream",
     "text": [
      "\n",
      "📊 Epoch 46 Summary:\n",
      "Train Loss: 0.0011 | Val Loss: 0.0032\n",
      "Accuracy: 99.47%\n",
      "mPA: 98.72%\n",
      "Crop IoU: 95.02%\n",
      "mIoU: 97.21%\n",
      "Precision: 97.11%\n",
      "Recall: 97.79%\n",
      "F1-Score: 97.45%\n",
      "FNR: 2.21%\n"
     ]
    },
    {
     "name": "stderr",
     "output_type": "stream",
     "text": [
      "Epoch 47 [Train]: 100%|████████████████████████████████████████████████| 400/400 [05:21<00:00,  1.24it/s, loss=0.00119]\n",
      "Validating: 100%|████████████████████████████████████████████████████████| 88/88 [00:21<00:00,  4.01it/s, loss=0.00368]\n"
     ]
    },
    {
     "name": "stdout",
     "output_type": "stream",
     "text": [
      "\n",
      "📊 Epoch 47 Summary:\n",
      "Train Loss: 0.0011 | Val Loss: 0.0031\n",
      "Accuracy: 99.48%\n",
      "mPA: 98.74%\n",
      "Crop IoU: 95.12%\n",
      "mIoU: 97.27%\n",
      "Precision: 97.18%\n",
      "Recall: 97.82%\n",
      "F1-Score: 97.50%\n",
      "FNR: 2.18%\n"
     ]
    },
    {
     "name": "stderr",
     "output_type": "stream",
     "text": [
      "Epoch 48 [Train]: 100%|████████████████████████████████████████████████| 400/400 [05:23<00:00,  1.24it/s, loss=0.00101]\n",
      "Validating: 100%|████████████████████████████████████████████████████████| 88/88 [00:22<00:00,  3.92it/s, loss=0.00351]\n"
     ]
    },
    {
     "name": "stdout",
     "output_type": "stream",
     "text": [
      "\n",
      "📊 Epoch 48 Summary:\n",
      "Train Loss: 0.0011 | Val Loss: 0.0031\n",
      "Accuracy: 99.47%\n",
      "mPA: 98.79%\n",
      "Crop IoU: 95.09%\n",
      "mIoU: 97.25%\n",
      "Precision: 97.05%\n",
      "Recall: 97.92%\n",
      "F1-Score: 97.48%\n",
      "FNR: 2.08%\n"
     ]
    },
    {
     "name": "stderr",
     "output_type": "stream",
     "text": [
      "Epoch 49 [Train]: 100%|███████████████████████████████████████████████| 400/400 [05:20<00:00,  1.25it/s, loss=0.000697]\n",
      "Validating: 100%|████████████████████████████████████████████████████████| 88/88 [00:22<00:00,  3.93it/s, loss=0.00332]\n"
     ]
    },
    {
     "name": "stdout",
     "output_type": "stream",
     "text": [
      "\n",
      "📊 Epoch 49 Summary:\n",
      "Train Loss: 0.0012 | Val Loss: 0.0031\n",
      "Accuracy: 99.47%\n",
      "mPA: 98.80%\n",
      "Crop IoU: 95.11%\n",
      "mIoU: 97.26%\n",
      "Precision: 97.05%\n",
      "Recall: 97.94%\n",
      "F1-Score: 97.49%\n",
      "FNR: 2.06%\n"
     ]
    },
    {
     "name": "stderr",
     "output_type": "stream",
     "text": [
      "Epoch 50 [Train]: 100%|███████████████████████████████████████████████| 400/400 [05:14<00:00,  1.27it/s, loss=0.000677]\n",
      "Validating: 100%|████████████████████████████████████████████████████████| 88/88 [00:21<00:00,  4.01it/s, loss=0.00228]\n"
     ]
    },
    {
     "name": "stdout",
     "output_type": "stream",
     "text": [
      "\n",
      "📊 Epoch 50 Summary:\n",
      "Train Loss: 0.0007 | Val Loss: 0.0021\n",
      "Accuracy: 99.47%\n",
      "mPA: 98.77%\n",
      "Crop IoU: 95.07%\n",
      "mIoU: 97.24%\n",
      "Precision: 97.07%\n",
      "Recall: 97.88%\n",
      "F1-Score: 97.47%\n",
      "FNR: 2.12%\n",
      "\n",
      "🎯 === Best Model Summary ===\n",
      "Best mPA: 98.95% → D:\\AAU Internship\\Code\\UNet-Models\\best_mPA_model.pth\n",
      "\n",
      "🧪 === Testing Best Model ===\n"
     ]
    },
    {
     "name": "stderr",
     "output_type": "stream",
     "text": [
      "Validating: 100%|██████████████████████████████████████████████████████| 300/300 [01:24<00:00,  3.55it/s, loss=0.00406]\n"
     ]
    },
    {
     "name": "stdout",
     "output_type": "stream",
     "text": [
      "\n",
      "📌 Best mPA Model Test Results:\n",
      "Accuracy: 99.50%\n",
      "mPA: 98.91%\n",
      "Crop IoU: 94.74%\n",
      "mIoU: 97.09%\n",
      "Precision: 96.43%\n",
      "Recall: 98.19%\n",
      "F1-Score: 97.30%\n",
      "FNR: 1.81%\n"
     ]
    }
   ],
   "source": [
    "# ---------------------- Model -----------------------\n",
    "CUSTOM_SAVE_ROOT = Path(r\"D:\\AAU Internship\\Code\\UNet-Models\")\n",
    "os.makedirs(CUSTOM_SAVE_ROOT, exist_ok=True)\n",
    "\n",
    "model = smp.Unet(\n",
    "    encoder=\"efficientnet-b5\",\n",
    "    encoder_weights=\"imagenet\",\n",
    "    encoder_depth=4,\n",
    "    decoder_use_batchnorm='inplace',\n",
    "    decoder_attention_type='scse',\n",
    "    decoder_channels=[256, 128, 64, 32],\n",
    "    in_channels=3,\n",
    "    classes=2,\n",
    "    activation=None,\n",
    "    center=True,\n",
    ").to(device)\n",
    "\n",
    "# ---------------------- Loss Function -----------------------\n",
    "class FocalTverskyLoss(nn.Module):\n",
    "    def __init__(self, alpha=0.7, beta=0.3, gamma=0.75, smooth=1e-6):\n",
    "        super().__init__()\n",
    "        self.alpha = alpha\n",
    "        self.beta = beta\n",
    "        self.gamma = gamma\n",
    "        self.smooth = smooth\n",
    "\n",
    "    def update_hyperparams_by_epoch(self, epoch):\n",
    "        steps = epoch // 5\n",
    "        self.alpha = max(0.4, 0.7 - 0.03*steps)\n",
    "        self.beta = 1 - self.alpha\n",
    "        self.gamma = min(1.5, 0.5 + 0.1*steps)\n",
    "\n",
    "    def forward(self, preds, targets):\n",
    "        targets_one_hot = F.one_hot(targets, num_classes=preds.shape[1]).permute(0, 3, 1, 2).float()\n",
    "        probs = F.softmax(preds, dim=1)\n",
    "        dims = (0, 2, 3)\n",
    "    \n",
    "        TP = T.sum(probs * targets_one_hot, dims)\n",
    "        FP = T.sum(probs * (1 - targets_one_hot), dims)\n",
    "        FN = T.sum((1 - probs) * targets_one_hot, dims)\n",
    "    \n",
    "        Tversky = (TP + self.smooth) / (TP + self.alpha * FP + self.beta * FN + self.smooth)\n",
    "        return T.mean((1 - Tversky) ** self.gamma)\n",
    "\n",
    "loss_fn = FocalTverskyLoss().to(device)\n",
    "\n",
    "# ---------------------- Metrics -----------------------\n",
    "def compute_metrics(preds, targets):\n",
    "    with T.no_grad():\n",
    "        pred_labels = T.argmax(preds, dim=1).cpu().numpy().flatten()\n",
    "        targets = targets.cpu().numpy().flatten()\n",
    "        ious = []\n",
    "        for cls in [0, 1]:\n",
    "            intersection = ((pred_labels == cls) & (targets == cls)).sum()\n",
    "            union = ((pred_labels == cls) | (targets == cls)).sum()\n",
    "            ious.append(intersection / (union + 1e-6))\n",
    "        class_acc = []\n",
    "        for cls in [0, 1]:\n",
    "            mask = (targets == cls)\n",
    "            if mask.sum() > 0:\n",
    "                class_acc.append((pred_labels[mask] == cls).mean())\n",
    "        mPA = np.mean(class_acc) * 100\n",
    "        cm = confusion_matrix(targets, pred_labels)\n",
    "        TN, FP, FN, TP = cm.ravel()\n",
    "        return {\n",
    "            \"Accuracy\": 100 * accuracy_score(targets, pred_labels),\n",
    "            \"mPA\": mPA,\n",
    "            \"Crop IoU\": 100 * ious[1],\n",
    "            \"mIoU\": 100 * np.mean(ious),\n",
    "            \"Precision\": 100 * precision_score(targets, pred_labels, zero_division=0),\n",
    "            \"Recall\": 100 * recall_score(targets, pred_labels, zero_division=0),\n",
    "            \"F1-Score\": 100 * f1_score(targets, pred_labels, zero_division=0),\n",
    "            \"FNR\": 100 * (FN / (FN + TP + 1e-6))\n",
    "        }\n",
    "\n",
    "# ---------------------- Training Setup -----------------------\n",
    "optimizer = optim.AdamW(model.parameters(), lr=1e-4, weight_decay=1e-5)\n",
    "MODEL_PATH = CUSTOM_SAVE_ROOT / \"best_mPA_model.pth\"\n",
    "best_mPA = -1  # Initialize to negative value for maximization\n",
    "PRIMARY_METRIC = \"mPA\"  # Primary metric for model selection\n",
    "\n",
    "# ---------------------- Training & Validation -----------------------\n",
    "def TrainUNet(model, dataloader, loss_fn, optimizer, epoch):\n",
    "    model.train()\n",
    "    running_loss = 0\n",
    "    all_preds, all_targets = [], []\n",
    "    loss_fn.update_hyperparams_by_epoch(epoch)\n",
    "    loop = tqdm(dataloader, desc=f\"Epoch {epoch} [Train]\")\n",
    "\n",
    "    for batch in loop:\n",
    "        inputs, targets = batch  # Unpack tuple: images, masks\n",
    "        inputs = inputs.to(device)\n",
    "        targets = targets.to(device)\n",
    "        optimizer.zero_grad()\n",
    "        outputs = model(inputs)\n",
    "        loss = loss_fn(outputs, targets)\n",
    "        loss.backward()\n",
    "        optimizer.step()\n",
    "        running_loss += loss.item()\n",
    "        all_preds.append(outputs.detach().cpu())\n",
    "        all_targets.append(targets.detach().cpu())\n",
    "        loop.set_postfix(loss=loss.item())\n",
    "\n",
    "    avg_loss = running_loss / len(dataloader)\n",
    "    metrics = compute_metrics(T.cat(all_preds), T.cat(all_targets))\n",
    "\n",
    "    T.cuda.empty_cache()\n",
    "    \n",
    "    return avg_loss, metrics\n",
    "\n",
    "def ValidateUNet(model, dataloader, loss_fn):\n",
    "    model.eval()\n",
    "    running_loss = 0\n",
    "    all_preds, all_targets = [], []\n",
    "    loop = tqdm(dataloader, desc=\"Validating\")\n",
    "\n",
    "    with T.no_grad():\n",
    "        for batch in loop:\n",
    "            inputs, targets = batch  # Unpack tuple: images, masks\n",
    "            inputs = inputs.to(device)\n",
    "            targets = targets.to(device)\n",
    "            outputs = model(inputs)\n",
    "            loss = loss_fn(outputs, targets)\n",
    "            running_loss += loss.item()\n",
    "            all_preds.append(outputs.detach().cpu())\n",
    "            all_targets.append(targets.detach().cpu())\n",
    "            loop.set_postfix(loss=loss.item())\n",
    "\n",
    "    avg_loss = running_loss / len(dataloader)\n",
    "    metrics = compute_metrics(T.cat(all_preds), T.cat(all_targets))\n",
    "    \n",
    "    T.cuda.empty_cache()\n",
    "\n",
    "    return avg_loss, metrics\n",
    "\n",
    "# ---------------------- Main Training -----------------------\n",
    "num_epochs = 50\n",
    "for epoch in range(1, num_epochs + 1):\n",
    "    train_loss, train_metrics = TrainUNet(model, train_dataloader, loss_fn, optimizer, epoch)\n",
    "    val_loss, val_metrics = ValidateUNet(model, val_dataloader, loss_fn)\n",
    "\n",
    "    # Save model if mPA improves\n",
    "    if val_metrics[PRIMARY_METRIC] > best_mPA:\n",
    "        best_mPA = val_metrics[PRIMARY_METRIC]\n",
    "        T.save(model.state_dict(), str(MODEL_PATH))\n",
    "        print(f\"✅ New best {PRIMARY_METRIC}: {best_mPA:.2f}% | Saved to: {MODEL_PATH}\")\n",
    "\n",
    "    # Print epoch summary\n",
    "    print(f\"\\n📊 Epoch {epoch} Summary:\")\n",
    "    print(f\"Train Loss: {train_loss:.4f} | Val Loss: {val_loss:.4f}\")\n",
    "    for k, v in val_metrics.items():\n",
    "        print(f\"{k}: {v:.2f}%\")\n",
    "\n",
    "    T.cuda.empty_cache()\n",
    "\n",
    "# ---------------------- Final Report -----------------------\n",
    "print(f\"\\n🎯 === Best Model Summary ===\")\n",
    "print(f\"Best {PRIMARY_METRIC}: {best_mPA:.2f}% → {MODEL_PATH}\")\n",
    "\n",
    "# ---------------------- Testing -----------------------\n",
    "print(\"\\n🧪 === Testing Best Model ===\")\n",
    "model.load_state_dict(T.load(str(MODEL_PATH)))\n",
    "test_loss, test_metrics = ValidateUNet(model, test_dataloader, loss_fn)\n",
    "print(f\"\\n📌 Best {PRIMARY_METRIC} Model Test Results:\")\n",
    "for k, v in test_metrics.items():\n",
    "    print(f\"{k}: {v:.2f}%\")"
   ]
  },
  {
   "cell_type": "code",
   "execution_count": null,
   "id": "25b1e356-704c-45ba-a47a-c63fd52db480",
   "metadata": {
    "scrolled": true
   },
   "outputs": [
    {
     "name": "stdout",
     "output_type": "stream",
     "text": [
      "\n",
      "🖼️ Generating and saving segmentation masks...\n"
     ]
    },
    {
     "name": "stderr",
     "output_type": "stream",
     "text": [
      "Processing datasets:   0%|                                                                       | 0/3 [00:00<?, ?it/s]\n",
      "Processing train batch:   0%|                                                                  | 0/400 [00:00<?, ?it/s]\u001b[A\n",
      "Processing train batch:   0%|▏                                                         | 1/400 [00:00<01:20,  4.97it/s]\u001b[A\n",
      "Processing train batch:   0%|▎                                                         | 2/400 [00:00<01:21,  4.89it/s]\u001b[A\n",
      "Processing train batch:   1%|▍                                                         | 3/400 [00:00<01:22,  4.81it/s]\u001b[A\n",
      "Processing train batch:   1%|▌                                                         | 4/400 [00:00<01:22,  4.81it/s]\u001b[A\n",
      "Processing train batch:   1%|▋                                                         | 5/400 [00:01<01:23,  4.73it/s]\u001b[A\n",
      "Processing train batch:   2%|▊                                                         | 6/400 [00:01<01:24,  4.65it/s]\u001b[A\n",
      "Processing train batch:   2%|█                                                         | 7/400 [00:01<01:26,  4.55it/s]\u001b[A\n",
      "Processing train batch:   2%|█▏                                                        | 8/400 [00:01<01:28,  4.45it/s]\u001b[A\n",
      "Processing train batch:   2%|█▎                                                        | 9/400 [00:02<01:45,  3.70it/s]\u001b[A\n",
      "Processing train batch:   2%|█▍                                                       | 10/400 [00:02<01:39,  3.93it/s]\u001b[A\n",
      "Processing train batch:   3%|█▌                                                       | 11/400 [00:02<01:36,  4.03it/s]\u001b[A\n",
      "Processing train batch:   3%|█▋                                                       | 12/400 [00:02<01:34,  4.11it/s]\u001b[A\n",
      "Processing train batch:   3%|█▊                                                       | 13/400 [00:03<01:32,  4.20it/s]\u001b[A\n",
      "Processing train batch:   4%|█▉                                                       | 14/400 [00:03<01:32,  4.18it/s]\u001b[A\n",
      "Processing train batch:   4%|██▏                                                      | 15/400 [00:03<01:30,  4.25it/s]\u001b[A\n",
      "Processing train batch:   4%|██▎                                                      | 16/400 [00:03<01:30,  4.24it/s]\u001b[A\n",
      "Processing train batch:   4%|██▍                                                      | 17/400 [00:03<01:30,  4.22it/s]\u001b[A\n",
      "Processing train batch:   4%|██▌                                                      | 18/400 [00:04<01:28,  4.32it/s]\u001b[A\n",
      "Processing train batch:   5%|██▋                                                      | 19/400 [00:04<01:46,  3.59it/s]\u001b[A\n",
      "Processing train batch:   5%|██▊                                                      | 20/400 [00:04<01:39,  3.83it/s]\u001b[A\n",
      "Processing train batch:   5%|██▉                                                      | 21/400 [00:05<01:35,  3.98it/s]\u001b[A\n",
      "Processing train batch:   6%|███▏                                                     | 22/400 [00:05<01:34,  4.00it/s]\u001b[A\n",
      "Processing train batch:   6%|███▎                                                     | 23/400 [00:05<01:33,  4.02it/s]\u001b[A\n",
      "Processing train batch:   6%|███▍                                                     | 24/400 [00:05<01:30,  4.15it/s]\u001b[A\n",
      "Processing train batch:   6%|███▌                                                     | 25/400 [00:05<01:27,  4.27it/s]\u001b[A\n",
      "Processing train batch:   6%|███▋                                                     | 26/400 [00:06<01:27,  4.28it/s]\u001b[A\n",
      "Processing train batch:   7%|███▊                                                     | 27/400 [00:06<01:26,  4.32it/s]\u001b[A\n",
      "Processing train batch:   7%|███▉                                                     | 28/400 [00:06<01:45,  3.54it/s]\u001b[A\n",
      "Processing train batch:   7%|████▏                                                    | 29/400 [00:07<01:43,  3.58it/s]\u001b[A\n",
      "Processing train batch:   8%|████▎                                                    | 30/400 [00:07<01:49,  3.37it/s]\u001b[A\n",
      "Processing train batch:   8%|████▍                                                    | 31/400 [00:07<01:42,  3.61it/s]\u001b[A\n",
      "Processing train batch:   8%|████▌                                                    | 32/400 [00:07<01:36,  3.83it/s]\u001b[A\n",
      "Processing train batch:   8%|████▋                                                    | 33/400 [00:08<01:48,  3.37it/s]\u001b[A\n",
      "Processing train batch:   8%|████▊                                                    | 34/400 [00:08<01:39,  3.67it/s]\u001b[A\n",
      "Processing train batch:   9%|████▉                                                    | 35/400 [00:08<01:34,  3.87it/s]\u001b[A\n",
      "Processing train batch:   9%|█████▏                                                   | 36/400 [00:08<01:33,  3.89it/s]\u001b[A\n",
      "Processing train batch:   9%|█████▎                                                   | 37/400 [00:09<01:31,  3.99it/s]\u001b[A\n",
      "Processing train batch:  10%|█████▍                                                   | 38/400 [00:09<01:27,  4.11it/s]\u001b[A\n",
      "Processing train batch:  10%|█████▌                                                   | 39/400 [00:09<01:24,  4.27it/s]\u001b[A\n",
      "Processing train batch:  10%|█████▋                                                   | 40/400 [00:09<01:24,  4.24it/s]\u001b[A\n",
      "Processing train batch:  10%|█████▊                                                   | 41/400 [00:10<01:24,  4.22it/s]\u001b[A\n",
      "Processing train batch:  10%|█████▉                                                   | 42/400 [00:10<01:41,  3.53it/s]\u001b[A\n",
      "Processing train batch:  11%|██████▏                                                  | 43/400 [00:10<01:36,  3.70it/s]\u001b[A\n",
      "Processing train batch:  11%|██████▎                                                  | 44/400 [00:10<01:30,  3.95it/s]\u001b[A\n",
      "Processing train batch:  11%|██████▍                                                  | 45/400 [00:11<01:43,  3.44it/s]\u001b[A\n",
      "Processing train batch:  12%|██████▌                                                  | 46/400 [00:11<01:34,  3.73it/s]\u001b[A\n",
      "Processing train batch:  12%|██████▋                                                  | 47/400 [00:11<01:28,  4.00it/s]\u001b[A\n",
      "Processing train batch:  12%|██████▊                                                  | 48/400 [00:12<01:43,  3.40it/s]\u001b[A\n",
      "Processing train batch:  12%|██████▉                                                  | 49/400 [00:12<01:38,  3.56it/s]\u001b[A\n",
      "Processing train batch:  12%|███████▏                                                 | 50/400 [00:12<01:47,  3.26it/s]\u001b[A\n",
      "Processing train batch:  13%|███████▎                                                 | 51/400 [00:12<01:37,  3.56it/s]\u001b[A\n",
      "Processing train batch:  13%|███████▍                                                 | 52/400 [00:13<01:34,  3.68it/s]\u001b[A\n",
      "Processing train batch:  13%|███████▌                                                 | 53/400 [00:13<01:35,  3.65it/s]\u001b[A\n",
      "Processing train batch:  14%|███████▋                                                 | 54/400 [00:13<01:31,  3.78it/s]\u001b[A\n",
      "Processing train batch:  14%|███████▊                                                 | 55/400 [00:13<01:25,  4.02it/s]\u001b[A\n",
      "Processing train batch:  14%|███████▉                                                 | 56/400 [00:14<01:21,  4.22it/s]\u001b[A\n",
      "Processing train batch:  14%|████████                                                 | 57/400 [00:14<01:37,  3.51it/s]\u001b[A\n",
      "Processing train batch:  14%|████████▎                                                | 58/400 [00:14<01:42,  3.34it/s]\u001b[A\n",
      "Processing train batch:  15%|████████▍                                                | 59/400 [00:15<01:34,  3.62it/s]\u001b[A\n",
      "Processing train batch:  15%|████████▌                                                | 60/400 [00:15<01:30,  3.76it/s]\u001b[A\n",
      "Processing train batch:  15%|████████▋                                                | 61/400 [00:15<01:31,  3.72it/s]\u001b[A\n",
      "Processing train batch:  16%|████████▊                                                | 62/400 [00:16<01:48,  3.12it/s]\u001b[A\n",
      "Processing train batch:  16%|████████▉                                                | 63/400 [00:16<01:38,  3.41it/s]\u001b[A\n",
      "Processing train batch:  16%|█████████                                                | 64/400 [00:16<01:33,  3.59it/s]\u001b[A\n",
      "Processing train batch:  16%|█████████▎                                               | 65/400 [00:16<01:29,  3.73it/s]\u001b[A\n",
      "Processing train batch:  16%|█████████▍                                               | 66/400 [00:17<01:26,  3.84it/s]\u001b[A\n",
      "Processing train batch:  17%|█████████▌                                               | 67/400 [00:17<01:24,  3.93it/s]\u001b[A\n",
      "Processing train batch:  17%|█████████▋                                               | 68/400 [00:17<01:36,  3.42it/s]\u001b[A\n",
      "Processing train batch:  17%|█████████▊                                               | 69/400 [00:17<01:29,  3.68it/s]\u001b[A\n",
      "Processing train batch:  18%|█████████▉                                               | 70/400 [00:18<01:49,  3.02it/s]\u001b[A\n",
      "Processing train batch:  18%|██████████                                               | 71/400 [00:18<01:37,  3.36it/s]\u001b[A\n",
      "Processing train batch:  18%|██████████▎                                              | 72/400 [00:18<01:38,  3.32it/s]\u001b[A\n",
      "Processing train batch:  18%|██████████▍                                              | 73/400 [00:19<01:36,  3.39it/s]\u001b[A\n",
      "Processing train batch:  18%|██████████▌                                              | 74/400 [00:19<01:28,  3.68it/s]\u001b[A\n",
      "Processing train batch:  19%|██████████▋                                              | 75/400 [00:19<01:27,  3.72it/s]\u001b[A\n",
      "Processing train batch:  19%|██████████▊                                              | 76/400 [00:19<01:31,  3.54it/s]\u001b[A\n",
      "Processing train batch:  19%|██████████▉                                              | 77/400 [00:20<01:26,  3.72it/s]\u001b[A\n",
      "Processing train batch:  20%|███████████                                              | 78/400 [00:20<01:31,  3.50it/s]\u001b[A\n",
      "Processing train batch:  20%|███████████▎                                             | 79/400 [00:20<01:28,  3.64it/s]\u001b[A\n",
      "Processing train batch:  20%|███████████▍                                             | 80/400 [00:20<01:22,  3.86it/s]\u001b[A\n",
      "Processing train batch:  20%|███████████▌                                             | 81/400 [00:21<01:30,  3.52it/s]\u001b[A\n",
      "Processing train batch:  20%|███████████▋                                             | 82/400 [00:21<01:24,  3.77it/s]\u001b[A\n",
      "Processing train batch:  21%|███████████▊                                             | 83/400 [00:21<01:19,  4.00it/s]\u001b[A\n",
      "Processing train batch:  21%|███████████▉                                             | 84/400 [00:22<01:31,  3.44it/s]\u001b[A\n",
      "Processing train batch:  21%|████████████                                             | 85/400 [00:22<01:24,  3.73it/s]\u001b[A\n",
      "Processing train batch:  22%|████████████▎                                            | 86/400 [00:22<01:35,  3.28it/s]\u001b[A\n",
      "Processing train batch:  22%|████████████▍                                            | 87/400 [00:22<01:27,  3.56it/s]\u001b[A\n",
      "Processing train batch:  22%|████████████▌                                            | 88/400 [00:23<01:22,  3.77it/s]\u001b[A\n",
      "Processing train batch:  22%|████████████▋                                            | 89/400 [00:23<01:33,  3.33it/s]\u001b[A\n",
      "Processing train batch:  22%|████████████▊                                            | 90/400 [00:23<01:25,  3.64it/s]\u001b[A\n",
      "Processing train batch:  23%|████████████▉                                            | 91/400 [00:24<01:37,  3.18it/s]\u001b[A\n",
      "Processing train batch:  23%|█████████████                                            | 92/400 [00:24<01:27,  3.50it/s]\u001b[A\n",
      "Processing train batch:  23%|█████████████▎                                           | 93/400 [00:24<01:36,  3.17it/s]\u001b[A\n",
      "Processing train batch:  24%|█████████████▍                                           | 94/400 [00:25<01:26,  3.54it/s]\u001b[A\n",
      "Processing train batch:  24%|█████████████▌                                           | 95/400 [00:25<01:37,  3.12it/s]\u001b[A\n",
      "Processing train batch:  24%|█████████████▋                                           | 96/400 [00:25<01:27,  3.47it/s]\u001b[A\n",
      "Processing train batch:  24%|█████████████▊                                           | 97/400 [00:25<01:23,  3.63it/s]\u001b[A\n",
      "Processing train batch:  24%|█████████████▉                                           | 98/400 [00:26<01:31,  3.29it/s]\u001b[A\n",
      "Processing train batch:  25%|██████████████                                           | 99/400 [00:26<01:25,  3.54it/s]\u001b[A\n",
      "Processing train batch:  25%|██████████████                                          | 100/400 [00:26<01:19,  3.79it/s]\u001b[A\n",
      "Processing train batch:  25%|██████████████▏                                         | 101/400 [00:27<01:28,  3.38it/s]\u001b[A\n",
      "Processing train batch:  26%|██████████████▎                                         | 102/400 [00:27<01:22,  3.63it/s]\u001b[A\n",
      "Processing train batch:  26%|██████████████▍                                         | 103/400 [00:27<01:26,  3.44it/s]\u001b[A\n",
      "Processing train batch:  26%|██████████████▌                                         | 104/400 [00:27<01:21,  3.63it/s]\u001b[A\n",
      "Processing train batch:  26%|██████████████▋                                         | 105/400 [00:28<01:17,  3.82it/s]\u001b[A\n",
      "Processing train batch:  26%|██████████████▊                                         | 106/400 [00:28<01:29,  3.28it/s]\u001b[A\n",
      "Processing train batch:  27%|██████████████▉                                         | 107/400 [00:28<01:22,  3.54it/s]\u001b[A\n",
      "Processing train batch:  27%|███████████████                                         | 108/400 [00:28<01:18,  3.71it/s]\u001b[A\n",
      "Processing train batch:  27%|███████████████▎                                        | 109/400 [00:29<01:41,  2.86it/s]\u001b[A\n",
      "Processing train batch:  28%|███████████████▍                                        | 110/400 [00:29<01:29,  3.24it/s]\u001b[A\n",
      "Processing train batch:  28%|███████████████▌                                        | 111/400 [00:29<01:21,  3.55it/s]\u001b[A\n",
      "Processing train batch:  28%|███████████████▋                                        | 112/400 [00:30<01:31,  3.15it/s]\u001b[A\n",
      "Processing train batch:  28%|███████████████▊                                        | 113/400 [00:30<01:22,  3.48it/s]\u001b[A\n",
      "Processing train batch:  28%|███████████████▉                                        | 114/400 [00:30<01:17,  3.71it/s]\u001b[A\n",
      "Processing train batch:  29%|████████████████                                        | 115/400 [00:31<01:25,  3.32it/s]\u001b[A\n",
      "Processing train batch:  29%|████████████████▏                                       | 116/400 [00:31<01:18,  3.60it/s]\u001b[A\n",
      "Processing train batch:  29%|████████████████▍                                       | 117/400 [00:31<01:27,  3.24it/s]\u001b[A\n",
      "Processing train batch:  30%|████████████████▌                                       | 118/400 [00:32<01:19,  3.54it/s]\u001b[A\n",
      "Processing train batch:  30%|████████████████▋                                       | 119/400 [00:32<01:14,  3.79it/s]\u001b[A\n",
      "Processing train batch:  30%|████████████████▊                                       | 120/400 [00:32<01:38,  2.84it/s]\u001b[A\n",
      "Processing train batch:  30%|████████████████▉                                       | 121/400 [00:33<01:39,  2.81it/s]\u001b[A\n",
      "Processing train batch:  30%|█████████████████                                       | 122/400 [00:33<01:29,  3.12it/s]\u001b[A\n",
      "Processing train batch:  31%|█████████████████▏                                      | 123/400 [00:33<01:22,  3.35it/s]\u001b[A\n",
      "Processing train batch:  31%|█████████████████▎                                      | 124/400 [00:34<01:31,  3.02it/s]\u001b[A\n",
      "Processing train batch:  31%|█████████████████▌                                      | 125/400 [00:34<01:21,  3.38it/s]\u001b[A\n",
      "Processing train batch:  32%|█████████████████▋                                      | 126/400 [00:34<01:31,  3.01it/s]\u001b[A\n",
      "Processing train batch:  32%|█████████████████▊                                      | 127/400 [00:34<01:21,  3.37it/s]\u001b[A\n",
      "Processing train batch:  32%|█████████████████▉                                      | 128/400 [00:35<01:28,  3.08it/s]\u001b[A\n",
      "Processing train batch:  32%|██████████████████                                      | 129/400 [00:35<01:19,  3.43it/s]\u001b[A\n",
      "Processing train batch:  32%|██████████████████▏                                     | 130/400 [00:35<01:28,  3.06it/s]\u001b[A\n",
      "Processing train batch:  33%|██████████████████▎                                     | 131/400 [00:36<01:19,  3.38it/s]\u001b[A\n",
      "Processing train batch:  33%|██████████████████▍                                     | 132/400 [00:36<01:26,  3.11it/s]\u001b[A\n",
      "Processing train batch:  33%|██████████████████▌                                     | 133/400 [00:36<01:16,  3.49it/s]\u001b[A\n",
      "Processing train batch:  34%|██████████████████▊                                     | 134/400 [00:37<01:26,  3.07it/s]\u001b[A\n",
      "Processing train batch:  34%|██████████████████▉                                     | 135/400 [00:37<01:17,  3.41it/s]\u001b[A\n",
      "Processing train batch:  34%|███████████████████                                     | 136/400 [00:37<01:25,  3.10it/s]\u001b[A\n",
      "Processing train batch:  34%|███████████████████▏                                    | 137/400 [00:37<01:17,  3.37it/s]\u001b[A\n",
      "Processing train batch:  34%|███████████████████▎                                    | 138/400 [00:38<01:23,  3.14it/s]\u001b[A\n",
      "Processing train batch:  35%|███████████████████▍                                    | 139/400 [00:38<01:14,  3.52it/s]\u001b[A\n",
      "Processing train batch:  35%|███████████████████▌                                    | 140/400 [00:38<01:23,  3.13it/s]\u001b[A\n",
      "Processing train batch:  35%|███████████████████▋                                    | 141/400 [00:39<01:14,  3.48it/s]\u001b[A\n",
      "Processing train batch:  36%|███████████████████▉                                    | 142/400 [00:39<01:25,  3.03it/s]\u001b[A\n",
      "Processing train batch:  36%|████████████████████                                    | 143/400 [00:39<01:17,  3.30it/s]\u001b[A\n",
      "Processing train batch:  36%|████████████████████▏                                   | 144/400 [00:40<01:12,  3.53it/s]\u001b[A\n",
      "Processing train batch:  36%|████████████████████▎                                   | 145/400 [00:40<01:12,  3.51it/s]\u001b[A\n",
      "Processing train batch:  36%|████████████████████▍                                   | 146/400 [00:40<01:10,  3.61it/s]\u001b[A\n",
      "Processing train batch:  37%|████████████████████▌                                   | 147/400 [00:40<01:06,  3.80it/s]\u001b[A\n",
      "Processing train batch:  37%|████████████████████▋                                   | 148/400 [00:41<01:05,  3.85it/s]\u001b[A\n",
      "Processing train batch:  37%|████████████████████▊                                   | 149/400 [00:41<01:05,  3.81it/s]\u001b[A\n",
      "Processing train batch:  38%|█████████████████████                                   | 150/400 [00:41<01:06,  3.78it/s]\u001b[A\n",
      "Processing train batch:  38%|█████████████████████▏                                  | 151/400 [00:41<01:02,  3.97it/s]\u001b[A\n",
      "Processing train batch:  38%|█████████████████████▎                                  | 152/400 [00:42<01:11,  3.48it/s]\u001b[A\n",
      "Processing train batch:  38%|█████████████████████▍                                  | 153/400 [00:42<01:06,  3.73it/s]\u001b[A\n",
      "Processing train batch:  38%|█████████████████████▌                                  | 154/400 [00:42<01:19,  3.09it/s]\u001b[A\n",
      "Processing train batch:  39%|█████████████████████▋                                  | 155/400 [00:43<01:18,  3.11it/s]\u001b[A\n",
      "Processing train batch:  39%|█████████████████████▊                                  | 156/400 [00:43<01:12,  3.36it/s]\u001b[A\n",
      "Processing train batch:  39%|█████████████████████▉                                  | 157/400 [00:43<01:17,  3.16it/s]\u001b[A\n",
      "Processing train batch:  40%|██████████████████████                                  | 158/400 [00:44<01:12,  3.32it/s]\u001b[A\n",
      "Processing train batch:  40%|██████████████████████▎                                 | 159/400 [00:44<01:08,  3.54it/s]\u001b[A\n",
      "Processing train batch:  40%|██████████████████████▍                                 | 160/400 [00:44<01:09,  3.44it/s]\u001b[A\n",
      "Processing train batch:  40%|██████████████████████▌                                 | 161/400 [00:44<01:09,  3.43it/s]\u001b[A\n",
      "Processing train batch:  40%|██████████████████████▋                                 | 162/400 [00:45<01:07,  3.51it/s]\u001b[A\n",
      "Processing train batch:  41%|██████████████████████▊                                 | 163/400 [00:45<01:08,  3.45it/s]\u001b[A\n",
      "Processing train batch:  41%|██████████████████████▉                                 | 164/400 [00:45<01:06,  3.55it/s]\u001b[A\n",
      "Processing train batch:  41%|███████████████████████                                 | 165/400 [00:45<01:00,  3.85it/s]\u001b[A\n",
      "Processing train batch:  42%|███████████████████████▏                                | 166/400 [00:46<01:07,  3.45it/s]\u001b[A\n",
      "Processing train batch:  42%|███████████████████████▍                                | 167/400 [00:46<01:04,  3.62it/s]\u001b[A\n",
      "Processing train batch:  42%|███████████████████████▌                                | 168/400 [00:46<01:00,  3.81it/s]\u001b[A\n",
      "Processing train batch:  42%|███████████████████████▋                                | 169/400 [00:47<01:13,  3.16it/s]\u001b[A\n",
      "Processing train batch:  42%|███████████████████████▊                                | 170/400 [00:47<01:08,  3.38it/s]\u001b[A\n",
      "Processing train batch:  43%|███████████████████████▉                                | 171/400 [00:47<01:04,  3.56it/s]\u001b[A\n",
      "Processing train batch:  43%|████████████████████████                                | 172/400 [00:48<01:16,  2.97it/s]\u001b[A\n",
      "Processing train batch:  43%|████████████████████████▏                               | 173/400 [00:48<01:11,  3.16it/s]\u001b[A\n",
      "Processing train batch:  44%|████████████████████████▎                               | 174/400 [00:48<01:12,  3.13it/s]\u001b[A\n",
      "Processing train batch:  44%|████████████████████████▌                               | 175/400 [00:49<01:07,  3.34it/s]\u001b[A\n",
      "Processing train batch:  44%|████████████████████████▋                               | 176/400 [00:49<01:02,  3.57it/s]\u001b[A\n",
      "Processing train batch:  44%|████████████████████████▊                               | 177/400 [00:49<01:03,  3.52it/s]\u001b[A\n",
      "Processing train batch:  44%|████████████████████████▉                               | 178/400 [00:49<01:01,  3.62it/s]\u001b[A\n",
      "Processing train batch:  45%|█████████████████████████                               | 179/400 [00:50<00:58,  3.79it/s]\u001b[A\n",
      "Processing train batch:  45%|█████████████████████████▏                              | 180/400 [00:50<01:00,  3.64it/s]\u001b[A\n",
      "Processing train batch:  45%|█████████████████████████▎                              | 181/400 [00:50<00:59,  3.69it/s]\u001b[A\n",
      "Processing train batch:  46%|█████████████████████████▍                              | 182/400 [00:50<00:57,  3.77it/s]\u001b[A\n",
      "Processing train batch:  46%|█████████████████████████▌                              | 183/400 [00:51<00:54,  4.00it/s]\u001b[A\n",
      "Processing train batch:  46%|█████████████████████████▊                              | 184/400 [00:51<00:55,  3.86it/s]\u001b[A\n",
      "Processing train batch:  46%|█████████████████████████▉                              | 185/400 [00:51<00:55,  3.85it/s]\u001b[A\n",
      "Processing train batch:  46%|██████████████████████████                              | 186/400 [00:51<00:54,  3.94it/s]\u001b[A"
     ]
    }
   ],
   "source": [
    "# ---------------------- Mask Generation -----------------------\n",
    "from pathlib import Path\n",
    "from tqdm import tqdm\n",
    "\n",
    "MASK_FOLDER_NAME = \"Crop_Masks\"\n",
    "MASK_OUTPUT_DIR = Path.cwd() / MASK_FOLDER_NAME\n",
    "for split in ['train', 'val', 'test']:\n",
    "    (MASK_OUTPUT_DIR / split).mkdir(parents=True, exist_ok=True)\n",
    "\n",
    "def save_segmentation_masks(model, train_dataloader, val_dataloader, test_dataloader, model_path, output_dir, device):\n",
    "    model.load_state_dict(T.load(str(model_path)))\n",
    "    model.eval()\n",
    "    dataloader_splits = [\n",
    "        (train_dataloader, 'train'),\n",
    "        (val_dataloader, 'val'),\n",
    "        (test_dataloader, 'test')\n",
    "    ]\n",
    "    mask_counter = 0\n",
    "    \n",
    "    with T.no_grad():\n",
    "        for dataloader, split in tqdm(dataloader_splits, desc=\"Processing datasets\"):\n",
    "            split_dir = output_dir / split\n",
    "            for batch in tqdm(dataloader, desc=f\"Processing {split} batch\", leave=False):\n",
    "                inputs, _, filenames = batch\n",
    "                inputs = inputs.to(device)\n",
    "                batch_size = inputs.size(0)\n",
    "                outputs = model(inputs)\n",
    "                pred_labels = T.argmax(outputs, dim=1).cpu().numpy()\n",
    "                for i in range(batch_size):\n",
    "                    mask = pred_labels[i]\n",
    "                    mask = (mask * 255).astype(np.uint8)\n",
    "                    image_name = Path(filenames[i]).name\n",
    "                    mask_path = str(split_dir / image_name)\n",
    "                    cv2.imwrite(mask_path, mask)\n",
    "                    mask_counter += 1\n",
    "    \n",
    "    print(f\"\\n🎉 Saved {mask_counter} segmentation masks to {output_dir}\")\n",
    "\n",
    "print(\"\\n🖼️ Generating and saving segmentation masks...\")\n",
    "save_segmentation_masks(\n",
    "    model=model,\n",
    "    train_dataloader=train_dataloader,\n",
    "    val_dataloader=val_dataloader,\n",
    "    test_dataloader=test_dataloader,\n",
    "    model_path=CUSTOM_SAVE_ROOT / \"best_mPA_model.pth\",\n",
    "    output_dir=MASK_OUTPUT_DIR,\n",
    "    device=device\n",
    ")\n",
    "\n",
    "T.cuda.empty_cache()"
   ]
  },
  {
   "cell_type": "code",
   "execution_count": null,
   "id": "de43a7ce-6afb-48d8-b6e5-0f0bfe325da7",
   "metadata": {},
   "outputs": [],
   "source": []
  }
 ],
 "metadata": {
  "kernelspec": {
   "display_name": "Python 3 (ipykernel)",
   "language": "python",
   "name": "python3"
  },
  "language_info": {
   "codemirror_mode": {
    "name": "ipython",
    "version": 3
   },
   "file_extension": ".py",
   "mimetype": "text/x-python",
   "name": "python",
   "nbconvert_exporter": "python",
   "pygments_lexer": "ipython3",
   "version": "3.12.10"
  }
 },
 "nbformat": 4,
 "nbformat_minor": 5
}
