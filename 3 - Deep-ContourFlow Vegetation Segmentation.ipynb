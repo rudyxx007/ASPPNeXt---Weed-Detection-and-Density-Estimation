{
 "cells": [
  {
   "cell_type": "code",
   "execution_count": 4,
   "id": "b263a116-ec67-45df-ab0f-db7f00974397",
   "metadata": {},
   "outputs": [],
   "source": [
    "import os\n",
    "import cv2\n",
    "import torch\n",
    "from torch.utils.data import Dataset, DataLoader\n",
    "import numpy as np\n",
    "from glob import glob\n",
    "import re\n",
    "import torch as T"
   ]
  },
  {
   "cell_type": "code",
   "execution_count": 5,
   "id": "33c942ca-872a-48d2-95cb-f8f9a042abb0",
   "metadata": {},
   "outputs": [
    {
     "name": "stdout",
     "output_type": "stream",
     "text": [
      "🚀 Using device: cuda\n"
     ]
    }
   ],
   "source": [
    "BASE_PATH = r\"D:\\AAU Internship\\Code\\CWF-788\\IMAGE512x384\"\n",
    "DEVICE = torch.device(\"cuda\" if torch.cuda.is_available() else \"cpu\")\n",
    "print(f\"🚀 Using device: {DEVICE}\")"
   ]
  },
  {
   "cell_type": "code",
   "execution_count": 7,
   "id": "4478d637-ac91-4999-865a-debf790dc873",
   "metadata": {},
   "outputs": [
    {
     "name": "stdout",
     "output_type": "stream",
     "text": [
      "✅ Batch shape: torch.Size([4, 3, 384, 512])\n"
     ]
    }
   ],
   "source": [
    "class CropWeedDataset(Dataset):\n",
    "    def __init__(self, base_dir):\n",
    "        self.image_paths = []\n",
    "        for subfolder in ['train_new', 'validation_new', 'test_new']:\n",
    "            folder_path = os.path.join(base_dir, subfolder)\n",
    "            self.image_paths.extend(glob(os.path.join(folder_path, \"*.jpg\")))\n",
    "            self.image_paths.extend(glob(os.path.join(folder_path, \"*.png\")))\n",
    "\n",
    "        def natural_key(string):\n",
    "            return [int(s) if s.isdigit() else s for s in re.split(r'(\\d+)', string)]\n",
    "            \n",
    "        self.image_paths.sort(key=natural_key)\n",
    "\n",
    "    def __len__(self):\n",
    "        return len(self.image_paths)\n",
    "\n",
    "    def __getitem__(self, idx):\n",
    "        img_path = self.image_paths[idx]\n",
    "        img = cv2.imread(img_path)\n",
    "        img = cv2.cvtColor(img, cv2.COLOR_BGR2RGB)\n",
    "        img = img.astype(np.float32) / 255.0\n",
    "        img_tensor = torch.from_numpy(img).permute(2, 0, 1).contiguous()\n",
    "\n",
    "        return img_tensor.to(DEVICE), img_path\n",
    "\n",
    "def get_loader(base_path, batch_size=4):\n",
    "    dataset = CropWeedDataset(base_path)\n",
    "    loader = DataLoader(dataset, batch_size=batch_size, shuffle=False)\n",
    "    return loader\n",
    "\n",
    "loader = get_loader(BASE_PATH, batch_size=4)\n",
    "\n",
    "for batch_imgs, _ in loader:\n",
    "    print(f\"✅ Batch shape: {batch_imgs.shape}\")\n",
    "    break\n",
    "\n",
    "T.cuda.empty_cache()"
   ]
  },
  {
   "cell_type": "code",
   "execution_count": null,
   "id": "421d5508-24cf-4237-88bf-fab96a79c213",
   "metadata": {},
   "outputs": [],
   "source": [
    "def compute_fused_contours(batch_imgs):\n",
    "    torch.cuda.empty_cache()\n",
    "    fused_maps = []\n",
    "    batch_imgs_np = batch_imgs.detach().cpu().numpy()\n",
    "\n",
    "    for img in batch_imgs_np:\n",
    "        img_rgb = np.transpose(img, (1, 2, 0)) * 255.0\n",
    "        img_rgb = img_rgb.astype(np.uint8)\n",
    "        gray = cv2.cvtColor(img_rgb, cv2.COLOR_RGB2GRAY)\n",
    "\n",
    "        # Sobel\n",
    "        sobelx = cv2.Sobel(gray, cv2.CV_64F, 1, 0, ksize=3)\n",
    "        sobely = cv2.Sobel(gray, cv2.CV_64F, 0, 1, ksize=3)\n",
    "        sobel = cv2.magnitude(sobelx, sobely)\n",
    "        sobel = np.clip(sobel / sobel.max(), 0, 1)\n",
    "\n",
    "        # Canny\n",
    "        canny = cv2.Canny(gray, 100, 200) / 255.0\n",
    "\n",
    "        # Fuse Sobel + Canny\n",
    "        fused = np.maximum(sobel, canny)\n",
    "\n",
    "        fused_tensor = torch.tensor(fused, dtype=torch.float32).unsqueeze(0)\n",
    "        fused_maps.append(fused_tensor)\n",
    "\n",
    "    fused_batch = torch.stack(fused_maps).to(batch_imgs.device)\n",
    "    torch.cuda.empty_cache()\n",
    "    return fused_batch"
   ]
  }
 ],
 "metadata": {
  "kernelspec": {
   "display_name": "Python 3 (ipykernel)",
   "language": "python",
   "name": "python3"
  },
  "language_info": {
   "codemirror_mode": {
    "name": "ipython",
    "version": 3
   },
   "file_extension": ".py",
   "mimetype": "text/x-python",
   "name": "python",
   "nbconvert_exporter": "python",
   "pygments_lexer": "ipython3",
   "version": "3.12.10"
  }
 },
 "nbformat": 4,
 "nbformat_minor": 5
}
