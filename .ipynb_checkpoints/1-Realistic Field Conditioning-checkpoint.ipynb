{
 "cells": [
  {
   "cell_type": "code",
   "execution_count": 1,
   "id": "43fac8be-dd74-4680-8315-7f971c90fc94",
   "metadata": {
    "scrolled": true
   },
   "outputs": [
    {
     "name": "stdout",
     "output_type": "stream",
     "text": [
      "Sat Jun 14 12:27:26 2025       \n",
      "+-----------------------------------------------------------------------------------------+\n",
      "| NVIDIA-SMI 576.57                 Driver Version: 576.57         CUDA Version: 12.9     |\n",
      "|-----------------------------------------+------------------------+----------------------+\n",
      "| GPU  Name                  Driver-Model | Bus-Id          Disp.A | Volatile Uncorr. ECC |\n",
      "| Fan  Temp   Perf          Pwr:Usage/Cap |           Memory-Usage | GPU-Util  Compute M. |\n",
      "|                                         |                        |               MIG M. |\n",
      "|=========================================+========================+======================|\n",
      "|   0  NVIDIA GeForce GTX 1650      WDDM  |   00000000:01:00.0 Off |                  N/A |\n",
      "| N/A   61C    P3             12W /   30W |     176MiB /   4096MiB |      1%      Default |\n",
      "|                                         |                        |                  N/A |\n",
      "+-----------------------------------------+------------------------+----------------------+\n",
      "                                                                                         \n",
      "+-----------------------------------------------------------------------------------------+\n",
      "| Processes:                                                                              |\n",
      "|  GPU   GI   CI              PID   Type   Process name                        GPU Memory |\n",
      "|        ID   ID                                                               Usage      |\n",
      "|=========================================================================================|\n",
      "|    0   N/A  N/A            7420    C+G   ...Browser\\Application\\brave.exe      N/A      |\n",
      "+-----------------------------------------------------------------------------------------+\n"
     ]
    }
   ],
   "source": [
    "!nvidia-smi"
   ]
  },
  {
   "cell_type": "code",
   "execution_count": 2,
   "id": "e14e6f6d-2e2d-4f5d-b97e-515f19128cf2",
   "metadata": {},
   "outputs": [
    {
     "name": "stdout",
     "output_type": "stream",
     "text": [
      "cuda\n"
     ]
    }
   ],
   "source": [
    "import torch as T\n",
    "import torchvision as TV\n",
    "import torchaudio as TA\n",
    "\n",
    "if T.cuda.is_available():\n",
    "    device=T.device(\"cuda\")\n",
    "else:\n",
    "    device=T.device(\"cpu\")\n",
    "\n",
    "print(device)"
   ]
  },
  {
   "cell_type": "code",
   "execution_count": 3,
   "id": "3b3fa453-e2de-4b81-bbe5-972aae31d2f8",
   "metadata": {},
   "outputs": [
    {
     "name": "stdout",
     "output_type": "stream",
     "text": [
      "Requirement already satisfied: albumentations in d:\\python\\lib\\site-packages (2.0.8)\n",
      "Requirement already satisfied: numpy>=1.24.4 in d:\\python\\lib\\site-packages (from albumentations) (2.1.3)\n",
      "Requirement already satisfied: scipy>=1.10.0 in d:\\python\\lib\\site-packages (from albumentations) (1.15.2)\n",
      "Requirement already satisfied: PyYAML in d:\\python\\lib\\site-packages (from albumentations) (6.0.2)\n",
      "Requirement already satisfied: pydantic>=2.9.2 in d:\\python\\lib\\site-packages (from albumentations) (2.11.4)\n",
      "Requirement already satisfied: albucore==0.0.24 in d:\\python\\lib\\site-packages (from albumentations) (0.0.24)\n",
      "Requirement already satisfied: opencv-python-headless>=4.9.0.80 in d:\\python\\lib\\site-packages (from albumentations) (4.11.0.86)\n",
      "Requirement already satisfied: stringzilla>=3.10.4 in d:\\python\\lib\\site-packages (from albucore==0.0.24->albumentations) (3.12.5)\n",
      "Requirement already satisfied: simsimd>=5.9.2 in d:\\python\\lib\\site-packages (from albucore==0.0.24->albumentations) (6.2.1)\n",
      "Requirement already satisfied: annotated-types>=0.6.0 in d:\\python\\lib\\site-packages (from pydantic>=2.9.2->albumentations) (0.7.0)\n",
      "Requirement already satisfied: pydantic-core==2.33.2 in d:\\python\\lib\\site-packages (from pydantic>=2.9.2->albumentations) (2.33.2)\n",
      "Requirement already satisfied: typing-extensions>=4.12.2 in d:\\python\\lib\\site-packages (from pydantic>=2.9.2->albumentations) (4.13.2)\n",
      "Requirement already satisfied: typing-inspection>=0.4.0 in d:\\python\\lib\\site-packages (from pydantic>=2.9.2->albumentations) (0.4.0)\n"
     ]
    }
   ],
   "source": [
    "!pip install albumentations"
   ]
  },
  {
   "cell_type": "code",
   "execution_count": 4,
   "id": "2d5c0689-d1e9-47ba-bc49-3158fd2a8e71",
   "metadata": {},
   "outputs": [
    {
     "name": "stderr",
     "output_type": "stream",
     "text": [
      "D:\\Python\\Lib\\site-packages\\albumentations\\check_version.py:147: UserWarning: Error fetching version info The read operation timed out\n",
      "  data = fetch_version_info()\n"
     ]
    },
    {
     "name": "stdout",
     "output_type": "stream",
     "text": [
      "\n",
      "📁 Processing folder: train\n"
     ]
    },
    {
     "name": "stderr",
     "output_type": "stream",
     "text": [
      "⚙️ Augmenting: 100%|█████████████████████████████████████████████████████████████████| 400/400 [01:05<00:00,  6.11it/s]\n",
      "💾 Saving: 100%|█████████████████████████████████████████████████████████████████████| 800/800 [00:13<00:00, 60.53it/s]\n"
     ]
    },
    {
     "name": "stdout",
     "output_type": "stream",
     "text": [
      "✅ Done with 'train': Total image-mask pairs saved = 800\n",
      "\n",
      "📁 Processing folder: test\n"
     ]
    },
    {
     "name": "stderr",
     "output_type": "stream",
     "text": [
      "⚙️ Augmenting: 100%|█████████████████████████████████████████████████████████████████| 300/300 [00:47<00:00,  6.34it/s]\n",
      "💾 Saving: 100%|█████████████████████████████████████████████████████████████████████| 600/600 [00:14<00:00, 42.43it/s]\n"
     ]
    },
    {
     "name": "stdout",
     "output_type": "stream",
     "text": [
      "✅ Done with 'test': Total image-mask pairs saved = 600\n",
      "\n",
      "📁 Processing folder: validation\n"
     ]
    },
    {
     "name": "stderr",
     "output_type": "stream",
     "text": [
      "⚙️ Augmenting: 100%|███████████████████████████████████████████████████████████████████| 88/88 [00:14<00:00,  5.93it/s]\n",
      "💾 Saving: 100%|████████████████████████████████████████████████████████████████████| 176/176 [00:01<00:00, 115.49it/s]"
     ]
    },
    {
     "name": "stdout",
     "output_type": "stream",
     "text": [
      "✅ Done with 'validation': Total image-mask pairs saved = 176\n"
     ]
    },
    {
     "name": "stderr",
     "output_type": "stream",
     "text": [
      "\n"
     ]
    }
   ],
   "source": [
    "import albumentations as A\n",
    "import cv2\n",
    "import numpy as np\n",
    "import os\n",
    "import random\n",
    "from tqdm import tqdm\n",
    "\n",
    "# ---------------------- Define Realistic Augmentation -----------------------\n",
    "realistic_augmentations = A.Compose([\n",
    "    A.OneOf([\n",
    "        A.RandomSunFlare(flare_roi=(0, 0, 1, 0.4), src_radius=250, src_color=(255, 255, 255), p=1.0),\n",
    "        A.RandomRain(p=1.0, slant_range=[-30, 30], drop_length=30, drop_width=1,\n",
    "                     drop_color=(200, 200, 200), blur_value=5, brightness_coefficient=0.7, rain_type=\"default\"),\n",
    "        A.RandomFog(p=1.0, fog_coef_range=[0.3, 0.5], alpha_coef=0.1)\n",
    "    ], p=1.0)\n",
    "])\n",
    "\n",
    "# ---------------------- Folders -----------------------\n",
    "folder_prefix = r\"D:\\AAU Internship\\Code\\CWF-788\\IMAGE512x384\"\n",
    "folders = [\"train\", \"test\", \"validation\"]\n",
    "new_folders = [\"train_new\", \"test_new\", \"validation_new\"]\n",
    "mask_folders = [\"trainlabel\", \"testlabel\", \"validationlabel\"]\n",
    "new_mask_folders = [\"trainlabel_new\", \"testlabel_new\", \"validationlabel_new\"]\n",
    "img_ext = \".jpg\"\n",
    "mask_ext = \".png\"\n",
    "\n",
    "# ---------------------- Helper Functions -----------------------\n",
    "def get_image_files(folder, extension):\n",
    "    return [os.path.join(folder, f) for f in os.listdir(folder)\n",
    "            if os.path.splitext(f)[1].lower() == extension]\n",
    "\n",
    "def load_image(image_path):\n",
    "    img = cv2.imread(image_path)\n",
    "    if img is None:\n",
    "        raise ValueError(f\"Failed to load {image_path}\")\n",
    "    return cv2.cvtColor(img, cv2.COLOR_BGR2RGB)\n",
    "\n",
    "def load_mask(mask_path):\n",
    "    mask = cv2.imread(mask_path, cv2.IMREAD_GRAYSCALE)\n",
    "    if mask is None:\n",
    "        raise ValueError(f\"Failed to load {mask_path}\")\n",
    "    return mask\n",
    "\n",
    "def save_image(path, image_rgb):\n",
    "    image_bgr = cv2.cvtColor(image_rgb, cv2.COLOR_RGB2BGR)\n",
    "    cv2.imwrite(path, image_bgr)\n",
    "\n",
    "def save_mask(path, mask):\n",
    "    cv2.imwrite(path, mask)\n",
    "\n",
    "# ---------------------- Main Loop -----------------------\n",
    "for folder_div, new_folder_div, mask_folder_div, new_mask_folder_div in zip(folders, new_folders, mask_folders, new_mask_folders):\n",
    "    folder = os.path.join(folder_prefix, folder_div)\n",
    "    new_folder = os.path.join(folder_prefix, new_folder_div)\n",
    "    mask_folder = os.path.join(folder_prefix, mask_folder_div)\n",
    "    new_mask_folder = os.path.join(folder_prefix, new_mask_folder_div)\n",
    "\n",
    "    if not os.path.isdir(folder) or not os.path.isdir(mask_folder):\n",
    "        print(f\"Skipping invalid folder: {folder} or {mask_folder}\")\n",
    "        continue\n",
    "\n",
    "    os.makedirs(new_folder, exist_ok=True)\n",
    "    os.makedirs(new_mask_folder, exist_ok=True)\n",
    "\n",
    "    print(f\"\\n📁 Processing folder: {folder_div}\")\n",
    "    image_paths = get_image_files(folder, img_ext)\n",
    "    image_paths.sort()\n",
    "\n",
    "    images, masks, names = [], [], []\n",
    "\n",
    "    # Load original images and masks\n",
    "    for path in image_paths:\n",
    "        image = load_image(path)\n",
    "        basename = os.path.splitext(os.path.basename(path))[0]\n",
    "        mask_path = os.path.join(mask_folder, basename + mask_ext)\n",
    "        mask = load_mask(mask_path)\n",
    "\n",
    "        images.append(image)\n",
    "        masks.append(mask)\n",
    "        names.append(basename)\n",
    "\n",
    "    orig_count = len(images)\n",
    "    aug_images, aug_masks, aug_names = [], [], []\n",
    "\n",
    "    # Apply augmentation (image only)\n",
    "    for i, (image, mask, basename) in enumerate(tqdm(list(zip(images, masks, names)), desc=\"⚙️ Augmenting\")):\n",
    "        augmented = realistic_augmentations(image=image)['image']\n",
    "        aug_images.append(augmented)\n",
    "        aug_masks.append(mask)  # Keep same mask\n",
    "        aug_names.append(f\"{orig_count + i + 1}_image\")  # base name, no extension\n",
    "\n",
    "    # Combine and shuffle (original + augmented)\n",
    "    all_images = images + aug_images\n",
    "    all_masks = masks + aug_masks\n",
    "    all_names = names + aug_names\n",
    "    combined = list(zip(all_images, all_masks, all_names))\n",
    "    random.shuffle(combined)\n",
    "\n",
    "    # Save images and masks with new names\n",
    "    for i, (img, msk, _) in enumerate(tqdm(combined, desc=\"💾 Saving\")):\n",
    "        new_name = f\"{i + 1}_image\"\n",
    "        save_image(os.path.join(new_folder, new_name + img_ext), img)\n",
    "        save_mask(os.path.join(new_mask_folder, new_name + mask_ext), msk)\n",
    "\n",
    "    print(f\"✅ Done with '{folder_div}': Total image-mask pairs saved = {len(combined)}\")\n"
   ]
  }
 ],
 "metadata": {
  "kernelspec": {
   "display_name": "Python 3 (ipykernel)",
   "language": "python",
   "name": "python3"
  },
  "language_info": {
   "codemirror_mode": {
    "name": "ipython",
    "version": 3
   },
   "file_extension": ".py",
   "mimetype": "text/x-python",
   "name": "python",
   "nbconvert_exporter": "python",
   "pygments_lexer": "ipython3",
   "version": "3.12.10"
  }
 },
 "nbformat": 4,
 "nbformat_minor": 5
}
