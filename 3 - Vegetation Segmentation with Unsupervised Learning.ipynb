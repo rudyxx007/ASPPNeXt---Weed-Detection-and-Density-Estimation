{
 "cells": [
  {
   "cell_type": "code",
   "execution_count": 3,
   "id": "738ae664-7d75-4164-9c9a-ca17ad7749ed",
   "metadata": {},
   "outputs": [
    {
     "name": "stdout",
     "output_type": "stream",
     "text": [
      "Transferred 691/753 items from pretrained weights\n"
     ]
    }
   ],
   "source": [
    "from ultralytics import YOLO\n",
    "\n",
    "# Load a model\n",
    "#model = YOLO(\"yolo12n-seg.yaml\")  # build a new model from YAML\n",
    "model = YOLO(\"yolo12n-seg.yaml\").load(\"yolo12n.pt\")  # build from YAML and transfer weights"
   ]
  },
  {
   "cell_type": "code",
   "execution_count": 5,
   "id": "759f6acf-2a73-4eee-8051-9ac30cf16880",
   "metadata": {},
   "outputs": [],
   "source": [
    "model2 = YOLO('yolo12n-seg.yaml')"
   ]
  },
  {
   "cell_type": "code",
   "execution_count": null,
   "id": "b807aca3-8697-4ca9-8c56-17743ba1e064",
   "metadata": {},
   "outputs": [],
   "source": []
  }
 ],
 "metadata": {
  "kernelspec": {
   "display_name": "Python 3 (ipykernel)",
   "language": "python",
   "name": "python3"
  },
  "language_info": {
   "codemirror_mode": {
    "name": "ipython",
    "version": 3
   },
   "file_extension": ".py",
   "mimetype": "text/x-python",
   "name": "python",
   "nbconvert_exporter": "python",
   "pygments_lexer": "ipython3",
   "version": "3.12.10"
  }
 },
 "nbformat": 4,
 "nbformat_minor": 5
}
