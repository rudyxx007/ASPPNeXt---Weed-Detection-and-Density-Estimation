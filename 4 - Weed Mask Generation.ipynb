{
 "cells": [
  {
   "cell_type": "code",
   "execution_count": 1,
   "id": "f438c97e-fe65-46ac-b603-bb45218d3be8",
   "metadata": {},
   "outputs": [],
   "source": [
    "# Cell 1: Import libraries\n",
    "import os\n",
    "import cv2\n",
    "import numpy as np\n",
    "from pathlib import Path\n",
    "from tqdm.notebook import tqdm  # For progress bars\n"
   ]
  },
  {
   "cell_type": "code",
   "execution_count": 2,
   "id": "0264c690-a429-429b-923f-f29ccaf74d3b",
   "metadata": {},
   "outputs": [],
   "source": [
    "# Cell 2: Function to create output directories\n",
    "def create_output_dirs(output_root):\n",
    "    \"\"\"Create output directories if they don't exist.\"\"\"\n",
    "    for subfolder in ['train', 'val', 'test']:\n",
    "        os.makedirs(os.path.join(output_root, subfolder), exist_ok=True)\n",
    "    print(f\"Output directories created/verified at: {output_root}\")\n",
    "\n",
    "# Cell 3: Function to process masks\n",
    "def process_masks(veg_mask_path, crop_mask_path, output_path):\n",
    "    \"\"\"Process vegetation and crop masks to create weed mask.\"\"\"\n",
    "    # Read masks\n",
    "    veg_mask = cv2.imread(veg_mask_path, cv2.IMREAD_GRAYSCALE)\n",
    "    crop_mask = cv2.imread(crop_mask_path, cv2.IMREAD_GRAYSCALE)\n",
    "    \n",
    "    if veg_mask is None or crop_mask is None:\n",
    "        print(f\"Error reading masks: {veg_mask_path} or {crop_mask_path}\")\n",
    "        return False\n",
    "    \n",
    "    # Ensure masks are binary (0 or 255)\n",
    "    _, veg_mask = cv2.threshold(veg_mask, 127, 255, cv2.THRESH_BINARY)\n",
    "    _, crop_mask = cv2.threshold(crop_mask, 127, 255, cv2.THRESH_BINARY)\n",
    "    \n",
    "    # Subtract crop mask from vegetation mask\n",
    "    # Where crop mask is white (255), result should be black (0)\n",
    "    weed_mask = veg_mask.copy()\n",
    "    weed_mask[crop_mask == 255] = 0\n",
    "    \n",
    "    # Save result\n",
    "    cv2.imwrite(output_path, weed_mask)\n",
    "    return True\n"
   ]
  },
  {
   "cell_type": "code",
   "execution_count": 3,
   "id": "f3c1b810-b9a8-42dc-bd1f-b6727e54a155",
   "metadata": {},
   "outputs": [
    {
     "name": "stdout",
     "output_type": "stream",
     "text": [
      "Output directories created/verified at: D:\\AAU Internship\\Code\\Weed_Masks\n"
     ]
    },
    {
     "data": {
      "application/vnd.jupyter.widget-view+json": {
       "model_id": "8368f6c8b0ee4c1190a00514a1bb972b",
       "version_major": 2,
       "version_minor": 0
      },
      "text/plain": [
       "Processing train:   0%|          | 0/1600 [00:00<?, ?it/s]"
      ]
     },
     "metadata": {},
     "output_type": "display_data"
    },
    {
     "data": {
      "application/vnd.jupyter.widget-view+json": {
       "model_id": "2f1e088d298c46fb872f9c1e14ce3329",
       "version_major": 2,
       "version_minor": 0
      },
      "text/plain": [
       "Processing val:   0%|          | 0/440 [00:00<?, ?it/s]"
      ]
     },
     "metadata": {},
     "output_type": "display_data"
    },
    {
     "name": "stdout",
     "output_type": "stream",
     "text": [
      "Crop mask not found for: 701_image.png\n",
      "Crop mask not found for: 702_image.png\n",
      "Crop mask not found for: 703_image.png\n",
      "Crop mask not found for: 704_image.png\n",
      "Crop mask not found for: 705_image.png\n",
      "Crop mask not found for: 706_image.png\n",
      "Crop mask not found for: 707_image.png\n",
      "Crop mask not found for: 708_image.png\n",
      "Crop mask not found for: 709_image.png\n",
      "Crop mask not found for: 710_image.png\n",
      "Crop mask not found for: 711_image.png\n",
      "Crop mask not found for: 712_image.png\n",
      "Crop mask not found for: 713_image.png\n",
      "Crop mask not found for: 714_image.png\n",
      "Crop mask not found for: 715_image.png\n",
      "Crop mask not found for: 716_image.png\n",
      "Crop mask not found for: 717_image.png\n",
      "Crop mask not found for: 718_image.png\n",
      "Crop mask not found for: 719_image.png\n",
      "Crop mask not found for: 720_image.png\n",
      "Crop mask not found for: 721_image.png\n",
      "Crop mask not found for: 722_image.png\n",
      "Crop mask not found for: 723_image.png\n",
      "Crop mask not found for: 724_image.png\n",
      "Crop mask not found for: 725_image.png\n",
      "Crop mask not found for: 726_image.png\n",
      "Crop mask not found for: 727_image.png\n",
      "Crop mask not found for: 728_image.png\n",
      "Crop mask not found for: 729_image.png\n",
      "Crop mask not found for: 730_image.png\n",
      "Crop mask not found for: 731_image.png\n",
      "Crop mask not found for: 732_image.png\n",
      "Crop mask not found for: 733_image.png\n",
      "Crop mask not found for: 734_image.png\n",
      "Crop mask not found for: 735_image.png\n",
      "Crop mask not found for: 736_image.png\n",
      "Crop mask not found for: 737_image.png\n",
      "Crop mask not found for: 738_image.png\n",
      "Crop mask not found for: 739_image.png\n",
      "Crop mask not found for: 740_image.png\n",
      "Crop mask not found for: 741_image.png\n",
      "Crop mask not found for: 742_image.png\n",
      "Crop mask not found for: 743_image.png\n",
      "Crop mask not found for: 744_image.png\n",
      "Crop mask not found for: 745_image.png\n",
      "Crop mask not found for: 746_image.png\n",
      "Crop mask not found for: 747_image.png\n",
      "Crop mask not found for: 748_image.png\n",
      "Crop mask not found for: 749_image.png\n",
      "Crop mask not found for: 750_image.png\n",
      "Crop mask not found for: 751_image.png\n",
      "Crop mask not found for: 752_image.png\n",
      "Crop mask not found for: 753_image.png\n",
      "Crop mask not found for: 754_image.png\n",
      "Crop mask not found for: 755_image.png\n",
      "Crop mask not found for: 756_image.png\n",
      "Crop mask not found for: 757_image.png\n",
      "Crop mask not found for: 758_image.png\n",
      "Crop mask not found for: 759_image.png\n",
      "Crop mask not found for: 760_image.png\n",
      "Crop mask not found for: 761_image.png\n",
      "Crop mask not found for: 762_image.png\n",
      "Crop mask not found for: 763_image.png\n",
      "Crop mask not found for: 764_image.png\n",
      "Crop mask not found for: 765_image.png\n",
      "Crop mask not found for: 766_image.png\n",
      "Crop mask not found for: 767_image.png\n",
      "Crop mask not found for: 768_image.png\n",
      "Crop mask not found for: 769_image.png\n",
      "Crop mask not found for: 770_image.png\n",
      "Crop mask not found for: 771_image.png\n",
      "Crop mask not found for: 772_image.png\n",
      "Crop mask not found for: 773_image.png\n",
      "Crop mask not found for: 774_image.png\n",
      "Crop mask not found for: 775_image.png\n",
      "Crop mask not found for: 776_image.png\n",
      "Crop mask not found for: 777_image.png\n",
      "Crop mask not found for: 778_image.png\n",
      "Crop mask not found for: 779_image.png\n",
      "Crop mask not found for: 780_image.png\n",
      "Crop mask not found for: 781_image.png\n",
      "Crop mask not found for: 782_image.png\n",
      "Crop mask not found for: 783_image.png\n",
      "Crop mask not found for: 784_image.png\n",
      "Crop mask not found for: 785_image.png\n",
      "Crop mask not found for: 786_image.png\n",
      "Crop mask not found for: 787_image.png\n",
      "Crop mask not found for: 788_image.png\n"
     ]
    },
    {
     "data": {
      "application/vnd.jupyter.widget-view+json": {
       "model_id": "bbf94bbc94bc489780b51d2023cb864b",
       "version_major": 2,
       "version_minor": 0
      },
      "text/plain": [
       "Processing test:   0%|          | 0/1200 [00:00<?, ?it/s]"
      ]
     },
     "metadata": {},
     "output_type": "display_data"
    }
   ],
   "source": [
    "# Cell 4: Main processing\n",
    "# Get current directory (where the notebook resides)\n",
    "current_dir = Path.cwd()\n",
    "\n",
    "# Define input and output directories (in the same directory as the notebook)\n",
    "veg_dir = current_dir / \"Vegetation_Masks\"\n",
    "crop_dir = current_dir / \"Crop_Masks\"\n",
    "output_dir = current_dir / \"Weed_Masks\"\n",
    "\n",
    "# Create output directories\n",
    "create_output_dirs(output_dir)\n",
    "\n",
    "# Process each subset (train, val, test)\n",
    "for subset in ['train', 'val', 'test']:\n",
    "    veg_subset_dir = veg_dir / subset\n",
    "    crop_subset_dir = crop_dir / subset\n",
    "    output_subset_dir = output_dir / subset\n",
    "    \n",
    "    if not veg_subset_dir.exists() or not crop_subset_dir.exists():\n",
    "        print(f\"Directory not found: {veg_subset_dir} or {crop_subset_dir}\")\n",
    "        continue\n",
    "    \n",
    "    # Get list of vegetation mask files\n",
    "    veg_files = [f for f in os.listdir(veg_subset_dir) if f.lower().endswith(('.png', '.jpg', '.jpeg'))]\n",
    "    \n",
    "    # Process each file with progress bar\n",
    "    for veg_file in tqdm(veg_files, desc=f\"Processing {subset}\"):\n",
    "        # Check if corresponding crop mask exists\n",
    "        crop_file_path = crop_subset_dir / veg_file\n",
    "        if not crop_file_path.exists():\n",
    "            print(f\"Crop mask not found for: {veg_file}\")\n",
    "            continue\n",
    "            \n",
    "        veg_file_path = veg_subset_dir / veg_file\n",
    "        output_file_path = output_subset_dir / veg_file\n",
    "        \n",
    "        success = process_masks(str(veg_file_path), str(crop_file_path), str(output_file_path))\n"
   ]
  },
  {
   "cell_type": "code",
   "execution_count": 4,
   "id": "9db7740f-ab1e-46bb-b7ea-0caa19145dda",
   "metadata": {},
   "outputs": [
    {
     "name": "stdout",
     "output_type": "stream",
     "text": [
      "Vegetation files: ['1000_image.png', '1001_image.png', '1002_image.png', '1003_image.png', '1004_image.png']\n",
      "Crop files: ['1000_image.png', '1001_image.png', '1002_image.png', '1003_image.png', '1004_image.png']\n"
     ]
    }
   ],
   "source": [
    "print(\"Vegetation files:\", os.listdir(veg_subset_dir)[:5])\n",
    "print(\"Crop files:\", os.listdir(crop_subset_dir)[:5])\n"
   ]
  },
  {
   "cell_type": "code",
   "execution_count": null,
   "id": "94ccb975-bb1d-44bc-8fc5-069bbb5b2963",
   "metadata": {},
   "outputs": [],
   "source": []
  }
 ],
 "metadata": {
  "kernelspec": {
   "display_name": "Python 3 (ipykernel)",
   "language": "python",
   "name": "python3"
  },
  "language_info": {
   "codemirror_mode": {
    "name": "ipython",
    "version": 3
   },
   "file_extension": ".py",
   "mimetype": "text/x-python",
   "name": "python",
   "nbconvert_exporter": "python",
   "pygments_lexer": "ipython3",
   "version": "3.12.10"
  }
 },
 "nbformat": 4,
 "nbformat_minor": 5
}
