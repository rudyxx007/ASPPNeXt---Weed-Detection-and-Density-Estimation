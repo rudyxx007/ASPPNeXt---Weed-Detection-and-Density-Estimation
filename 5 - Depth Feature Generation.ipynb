{
 "cells": [
  {
   "cell_type": "code",
   "execution_count": 1,
   "id": "ad051d08-f423-4453-95b6-df390ff49916",
   "metadata": {},
   "outputs": [],
   "source": [
    "import torch\n",
    "import cv2\n",
    "from torchvision.transforms import Compose, Resize, ToTensor, Normalize"
   ]
  },
  {
   "cell_type": "code",
   "execution_count": null,
   "id": "334687ae-1d4d-4c82-8f62-2e7450ebd7a4",
   "metadata": {},
   "outputs": [],
   "source": [
    "# Load MiDaS v3 (DPT-Large)\n",
    "model = torch.hub.load(\"intel-isl/MiDaS\", \"DPT_Large\", pretrained=True)\n",
    "model.eval()\n",
    "device = torch.device(\"cuda\" if torch.cuda.is_available() else \"cpu\")\n",
    "model.to(device)\n",
    "\n",
    "# Preprocess RGB image\n",
    "transform = Compose([Resize((384, 384)), ToTensor(), Normalize(mean=[0.5, 0.5, 0.5], std=[0.5, 0.5, 0.5])])\n",
    "img = cv2.imread(\"crop_weed_image.jpg\")\n",
    "img = cv2.cvtColor(img, cv2.COLOR_BGR2RGB)\n",
    "input_tensor = transform(img).unsqueeze(0).to(device)\n",
    "\n",
    "# Generate depth map\n",
    "with torch.no_grad():\n",
    "    depth_map = model(input_tensor)  # Shape: [1, 1, H, W]\n",
    "\n",
    "# Save depth map\n",
    "depth_map_np = depth_map.squeeze().cpu().numpy()  # Shape: [H, W]\n",
    "np.save(\"depth_map.npy\", depth_map_np)  # Save for later use\n",
    "\n",
    "# Prepare for custom encoder (example)\n",
    "depth_map_tensor = torch.from_numpy(depth_map_np).unsqueeze(0).unsqueeze(0)  # Shape: [1, 1, H, W]\n",
    "# Feed depth_map_tensor (or combined with RGB) into your custom encoder"
   ]
  }
 ],
 "metadata": {
  "kernelspec": {
   "display_name": "Python 3 (ipykernel)",
   "language": "python",
   "name": "python3"
  },
  "language_info": {
   "codemirror_mode": {
    "name": "ipython",
    "version": 3
   },
   "file_extension": ".py",
   "mimetype": "text/x-python",
   "name": "python",
   "nbconvert_exporter": "python",
   "pygments_lexer": "ipython3",
   "version": "3.12.10"
  }
 },
 "nbformat": 4,
 "nbformat_minor": 5
}
