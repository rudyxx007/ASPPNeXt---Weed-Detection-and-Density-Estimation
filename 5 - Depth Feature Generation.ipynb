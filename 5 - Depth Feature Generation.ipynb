{
 "cells": [
  {
   "cell_type": "code",
   "execution_count": 1,
   "id": "ad051d08-f423-4453-95b6-df390ff49916",
   "metadata": {},
   "outputs": [],
   "source": [
    "import torch\n",
    "import cv2\n",
    "import os\n",
    "from torchvision.transforms import Compose, ToTensor, Normalize\n",
    "from torch.utils.data import DataLoader, Dataset\n",
    "import numpy as np\n",
    "import warnings"
   ]
  },
  {
   "cell_type": "code",
   "execution_count": 2,
   "id": "b6dc8903-20e3-497d-95db-031944d0759c",
   "metadata": {},
   "outputs": [],
   "source": [
    "warnings.filterwarnings(\"ignore\", category=FutureWarning, module=\"timm\")"
   ]
  },
  {
   "cell_type": "code",
   "execution_count": 3,
   "id": "334687ae-1d4d-4c82-8f62-2e7450ebd7a4",
   "metadata": {},
   "outputs": [],
   "source": [
    "class ImageDataset(Dataset):\n",
    "    def __init__(self, image_dir, transform=None):\n",
    "        self.image_dir = image_dir\n",
    "        self.transform = transform\n",
    "        self.image_files = [f for f in os.listdir(image_dir) if f.endswith('.jpg')]\n",
    "    \n",
    "    def __len__(self):\n",
    "        return len(self.image_files)\n",
    "    \n",
    "    def __getitem__(self, idx):\n",
    "        img_name = self.image_files[idx]\n",
    "        img_path = os.path.join(self.image_dir, img_name)\n",
    "        image = cv2.imread(img_path)\n",
    "        if image is None:\n",
    "            raise ValueError(f\"Failed to read image {img_path}. Please check the file.\")\n",
    "        image = cv2.cvtColor(image, cv2.COLOR_BGR2RGB)\n",
    "        if self.transform:\n",
    "            image = self.transform(image)\n",
    "        return image, img_name\n",
    "\n",
    "def save_depth_map(depth_map, output_path):\n",
    "    depth_map = depth_map.squeeze().cpu().numpy()\n",
    "    depth_map = (depth_map - depth_map.min()) / (depth_map.max() - depth_map.min() + 1e-10) * 255.0\n",
    "    depth_map = depth_map.astype(np.uint8)\n",
    "    cv2.imwrite(output_path, depth_map)\n"
   ]
  },
  {
   "cell_type": "code",
   "execution_count": 4,
   "id": "8481bf96-514d-4047-994f-f3f4cf018302",
   "metadata": {},
   "outputs": [
    {
     "name": "stderr",
     "output_type": "stream",
     "text": [
      "Using cache found in C:\\Users\\A/.cache\\torch\\hub\\intel-isl_MiDaS_master\n"
     ]
    },
    {
     "name": "stdout",
     "output_type": "stream",
     "text": [
      "Processing train_new images...\n",
      "Finished processing train_new images. Depth maps saved to D:\\AAU Internship\\Code\\Depth_Features\\train_new\n",
      "Processing validation_new images...\n",
      "Finished processing validation_new images. Depth maps saved to D:\\AAU Internship\\Code\\Depth_Features\\validation_new\n",
      "Processing test_new images...\n",
      "Finished processing test_new images. Depth maps saved to D:\\AAU Internship\\Code\\Depth_Features\\test_new\n"
     ]
    }
   ],
   "source": [
    "output_root = os.path.join(os.getcwd(), 'Depth_Features')\n",
    "input_root = r'D:\\AAU Internship\\Code\\CWF-788\\IMAGE512x384'\n",
    "splits = ['train_new', 'validation_new', 'test_new']\n",
    "os.makedirs(output_root, exist_ok=True)\n",
    "\n",
    "for split in splits:\n",
    "    os.makedirs(os.path.join(output_root, split), exist_ok=True)\n",
    "\n",
    "model = torch.hub.load(\"intel-isl/MiDaS\", \"DPT_Large\", pretrained=True, trust_repo=True)\n",
    "model.eval()\n",
    "device = torch.device(\"cuda\" if torch.cuda.is_available() else \"cpu\")\n",
    "model.to(device)\n",
    "\n",
    "transform = Compose([\n",
    "    ToTensor(),\n",
    "    Normalize(mean=[0.5, 0.5, 0.5], std=[0.5, 0.5, 0.5])\n",
    "])\n",
    "\n",
    "batch_size = 4\n",
    "for split in splits:\n",
    "    input_dir = os.path.join(input_root, split)\n",
    "    output_dir = os.path.join(output_root, split)\n",
    "    \n",
    "    if not os.path.exists(input_dir):\n",
    "        print(f\"Warning: {input_dir} does not exist. Skipping {split}.\")\n",
    "        continue\n",
    "    \n",
    "    print(f\"Processing {split} images...\")\n",
    "    \n",
    "    dataset = ImageDataset(input_dir, transform=transform)\n",
    "    dataloader = DataLoader(dataset, batch_size=batch_size, shuffle=False, pin_memory=True)\n",
    "    \n",
    "    for batch_images, batch_names in dataloader:\n",
    "        batch_images = batch_images.to(device)\n",
    "        \n",
    "        with torch.no_grad():\n",
    "            depth_maps = model(batch_images)\n",
    "        \n",
    "        for i, (depth_map, img_name) in enumerate(zip(depth_maps, batch_names)):\n",
    "            output_path = os.path.join(output_dir, img_name.replace('.jpg', '_depth.png'))\n",
    "            save_depth_map(depth_map, output_path)\n",
    "    \n",
    "    print(f\"Finished processing {split} images. Depth maps saved to {output_dir}\")"
   ]
  },
  {
   "cell_type": "code",
   "execution_count": null,
   "id": "82f84575-2f61-4b34-b644-221b625452c5",
   "metadata": {},
   "outputs": [],
   "source": []
  }
 ],
 "metadata": {
  "kernelspec": {
   "display_name": "Python 3 (ipykernel)",
   "language": "python",
   "name": "python3"
  },
  "language_info": {
   "codemirror_mode": {
    "name": "ipython",
    "version": 3
   },
   "file_extension": ".py",
   "mimetype": "text/x-python",
   "name": "python",
   "nbconvert_exporter": "python",
   "pygments_lexer": "ipython3",
   "version": "3.12.10"
  }
 },
 "nbformat": 4,
 "nbformat_minor": 5
}
